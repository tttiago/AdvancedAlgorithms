{
 "cells": [
  {
   "cell_type": "code",
   "execution_count": 1,
   "id": "4bccc837-2a83-4226-bbdc-a1c54817d8e2",
   "metadata": {
    "tags": []
   },
   "outputs": [],
   "source": [
    "import json\n",
    "import matplotlib.pyplot as plt\n",
    "import numpy as np\n",
    "import pandas as pd\n",
    "from sys import getsizeof"
   ]
  },
  {
   "cell_type": "markdown",
   "id": "cb7bfe3c-dc7c-4854-821e-b3c5c753f749",
   "metadata": {},
   "source": [
    "### Load results files"
   ]
  },
  {
   "cell_type": "code",
   "execution_count": 2,
   "id": "1e9ce98d-bc65-4f3f-bb01-f23b935d2136",
   "metadata": {},
   "outputs": [],
   "source": [
    "with open('./results/det_counter.json', 'r') as f: \n",
    "    det_results = json.load(f)    "
   ]
  },
  {
   "cell_type": "code",
   "execution_count": 3,
   "id": "22c6520a-8ff8-4fa3-9447-dd22c654b35f",
   "metadata": {},
   "outputs": [
    {
     "data": {
      "text/plain": [
       "232"
      ]
     },
     "execution_count": 3,
     "metadata": {},
     "output_type": "execute_result"
    }
   ],
   "source": [
    "getsizeof(det_results)"
   ]
  },
  {
   "cell_type": "markdown",
   "id": "6b42bb99-5483-4ffc-87a9-f6f768f05714",
   "metadata": {},
   "source": [
    "Portuguese has more letters (18% more than English), followed by French."
   ]
  },
  {
   "cell_type": "markdown",
   "id": "e246d46d-8b43-4844-863a-d590b227d4d9",
   "metadata": {},
   "source": [
    "### Convert results to numpy format"
   ]
  },
  {
   "cell_type": "code",
   "execution_count": 4,
   "id": "f9c570db-393f-494f-a4de-f0497cdde6e7",
   "metadata": {},
   "outputs": [],
   "source": [
    "def dict_to_np(dic):\n",
    "    n_rows = len(dic['pt'])\n",
    "    try:\n",
    "        n_cols = len(dic['pt']['A'])\n",
    "    except TypeError:\n",
    "        n_cols = 1\n",
    "    results = dict()\n",
    "    \n",
    "    for lang in ('pt', 'en', 'fr'):\n",
    "        results[lang] = np.zeros((n_rows, n_cols), dtype='int')\n",
    "        for i, key in enumerate(sorted(dic[lang].keys())):\n",
    "            results[lang][i,:] = dic[lang][key]\n",
    "        \n",
    "    return results"
   ]
  },
  {
   "cell_type": "code",
   "execution_count": 5,
   "id": "ffc4ef71-4aa6-4cd2-a133-1603238062a4",
   "metadata": {},
   "outputs": [],
   "source": [
    "det_results = dict_to_np(det_results)"
   ]
  },
  {
   "cell_type": "markdown",
   "id": "1f141f21-7fdb-43b1-b299-cd1baf341cdf",
   "metadata": {},
   "source": [
    "## Total number of letters"
   ]
  },
  {
   "cell_type": "code",
   "execution_count": 6,
   "id": "2a02f3f9-71de-420a-8e0d-510f8c167cf3",
   "metadata": {},
   "outputs": [
    {
     "data": {
      "text/plain": [
       "278239"
      ]
     },
     "execution_count": 6,
     "metadata": {},
     "output_type": "execute_result"
    }
   ],
   "source": [
    "n_letters_pt = sum(det_results['pt'][:,0])\n",
    "n_letters_pt"
   ]
  },
  {
   "cell_type": "code",
   "execution_count": 7,
   "id": "a586782f-430c-4003-bef3-25337ad91dbb",
   "metadata": {},
   "outputs": [
    {
     "data": {
      "text/plain": [
       "235645"
      ]
     },
     "execution_count": 7,
     "metadata": {},
     "output_type": "execute_result"
    }
   ],
   "source": [
    "n_letters_en = sum(det_results['en'][:,0])\n",
    "n_letters_en"
   ]
  },
  {
   "cell_type": "code",
   "execution_count": 8,
   "id": "cfa262e4-5a76-4749-a51f-58a373541f97",
   "metadata": {},
   "outputs": [
    {
     "data": {
      "text/plain": [
       "266484"
      ]
     },
     "execution_count": 8,
     "metadata": {},
     "output_type": "execute_result"
    }
   ],
   "source": [
    "n_letters_fr = sum(det_results['fr'][:,0])\n",
    "n_letters_fr"
   ]
  },
  {
   "cell_type": "code",
   "execution_count": 9,
   "id": "67ad3f36-193a-432c-9349-0fb5720b43c9",
   "metadata": {},
   "outputs": [],
   "source": [
    "n_letters = {\n",
    "    'en': n_letters_en,\n",
    "    'pt': n_letters_pt,\n",
    "    'fr': n_letters_fr\n",
    "}"
   ]
  },
  {
   "cell_type": "code",
   "execution_count": 10,
   "id": "710a89c5-5c66-4d2f-ac26-4d48ff4eb8eb",
   "metadata": {
    "tags": []
   },
   "outputs": [
    {
     "data": {
      "text/plain": [
       "0.884274478017442"
      ]
     },
     "execution_count": 10,
     "metadata": {},
     "output_type": "execute_result"
    }
   ],
   "source": [
    "n_letters_en / n_letters_fr"
   ]
  },
  {
   "cell_type": "code",
   "execution_count": 11,
   "id": "e6915172-1d75-4643-88cf-85d0d2760132",
   "metadata": {},
   "outputs": [
    {
     "data": {
      "text/plain": [
       "0.8469157810371659"
      ]
     },
     "execution_count": 11,
     "metadata": {},
     "output_type": "execute_result"
    }
   ],
   "source": [
    "n_letters_en / n_letters_pt"
   ]
  },
  {
   "cell_type": "code",
   "execution_count": 12,
   "id": "967d18af-c8f5-4e23-99ff-f08b21ac409f",
   "metadata": {},
   "outputs": [
    {
     "data": {
      "text/plain": [
       "1.0441114663544528"
      ]
     },
     "execution_count": 12,
     "metadata": {},
     "output_type": "execute_result"
    }
   ],
   "source": [
    "n_letters_pt / n_letters_fr"
   ]
  },
  {
   "cell_type": "code",
   "execution_count": 13,
   "id": "1780a7ac-8ad4-4da7-b0cd-146d5c6c166d",
   "metadata": {},
   "outputs": [
    {
     "data": {
      "image/png": "[encoded data removed]",
      "text/plain": [
       "<Figure size 432x288 with 1 Axes>"
      ]
     },
     "metadata": {
      "needs_background": "light"
     },
     "output_type": "display_data"
    }
   ],
   "source": [
    "plt.bar(('French', 'Portuguese', 'English'), (n_letters_fr, n_letters_pt, n_letters_en));\n",
    "ax = plt.gca()\n",
    "ax.set_ylabel('Total Number of Letters');"
   ]
  },
  {
   "cell_type": "markdown",
   "id": "0c55cd1f-aeec-41f7-9a09-2fc0fabecfb3",
   "metadata": {},
   "source": [
    "## Letter frequencies"
   ]
  },
  {
   "cell_type": "markdown",
   "id": "8c65d852-14d4-463d-b81f-efff1da32361",
   "metadata": {},
   "source": [
    "Compare with https://pt.wikipedia.org/wiki/Frequ%C3%AAncia_de_letras"
   ]
  },
  {
   "cell_type": "code",
   "execution_count": 14,
   "id": "c313e86b-e7b7-4f65-b0e3-57f0481378f3",
   "metadata": {},
   "outputs": [],
   "source": [
    "ord_A = ord('A')\n",
    "letter_labels = [chr(i) for i in range(ord_A, ord_A+26)]"
   ]
  },
  {
   "cell_type": "code",
   "execution_count": 15,
   "id": "210c707c-3836-4562-b06c-ab55aa315b84",
   "metadata": {},
   "outputs": [],
   "source": [
    "def print_max_freqs(results, lang, n=5, compare=None):\n",
    "    max_idxs = (-results[lang]).ravel().argsort()[:n]\n",
    "    _aux_print(max_idxs, results, lang, n, compare)    \n",
    "\n",
    "def print_min_freqs(results, lang, n=5, compare=None):\n",
    "    min_idxs = (results[lang]).ravel().argsort()[:n]\n",
    "    _aux_print(min_idxs, results, lang, n, compare)\n",
    "    \n",
    "def _aux_print(idxs, results, lang, n=5, compare=None):\n",
    "    for idx in idxs:\n",
    "        cts = int(results[lang][idx])\n",
    "        freq = cts/n_letters[lang]\n",
    "        print(f'{letter_labels[idx]} {cts:6}  {freq:.4f}', end='')\n",
    "        if compare:\n",
    "            teo = det_results[lang][idx]\n",
    "            rel_er = float(abs(cts - teo)/teo)\n",
    "            print(f'  real: {int(teo):7}, rel. error: {rel_er:.4f}')\n",
    "        else:\n",
    "            print()"
   ]
  },
  {
   "cell_type": "code",
   "execution_count": 16,
   "id": "7d43e0fe-1c3a-492a-95fa-918ac09a43f3",
   "metadata": {},
   "outputs": [],
   "source": [
    "def plot_abs_freqs(results, lang, ax=None):\n",
    "    if ax is None:\n",
    "        fig, ax = plt.subplots()\n",
    "    else:\n",
    "        fig = ax.figure\n",
    "        \n",
    "    ax.bar(letter_labels, results[lang].ravel())\n",
    "    ax.set_ylabel('Absolute Frequency')\n",
    "    \n",
    "    return fig, ax\n",
    "    \n",
    "def plot_rel_freqs(results, lang, compare=None, ax=None):\n",
    "    if ax is None:\n",
    "        fig, ax = plt.subplots()\n",
    "    else:\n",
    "        fig = ax.figure\n",
    "    \n",
    "    if compare == 'real':\n",
    "        x = np.arange(len(letter_labels))  # the label locations\n",
    "        width = 0.35  # the width of the bars\n",
    "        ax.bar(x - width/2, results[lang].ravel()/n_letters[lang], width, label='Sample Text')\n",
    "        ax.bar(x + width/2, real_freqs[lang], width, label='Expected')        \n",
    "        ax.set_xticks(x, letter_labels)\n",
    "        ax.legend()\n",
    "    elif compare == 'det':\n",
    "        x = np.arange(len(letter_labels))  # the label locations\n",
    "        width = 0.35  # the width of the bars\n",
    "        ax.bar(x + width/2, det_results[lang].ravel()/n_letters[lang], width, label='Real value')\n",
    "        ax.bar(x - width/2, results[lang].ravel()/np.sum(results[lang]), width, label='Estimation')        \n",
    "        ax.set_xticks(x, letter_labels)\n",
    "        ax.legend()\n",
    "    else:\n",
    "        ax.bar(letter_labels, results[lang].ravel()/n_letters[lang])\n",
    "        \n",
    "        \n",
    "    ax.set_xlabel('Letter')\n",
    "    ax.set_ylabel('Relative Frequency')\n",
    "\n",
    "    return fig, ax"
   ]
  },
  {
   "cell_type": "code",
   "execution_count": 17,
   "id": "43072600-521d-4a08-ae53-2b125e9742b3",
   "metadata": {},
   "outputs": [],
   "source": [
    "real_freqs = {}\n",
    "real_freqs['pt'] = np.array([14.63, 1.04, 3.88, 4.99, 12.57, 1.02, 1.3, 1.28, 6.18, 0.4, \n",
    "                             0.02, 2.78, 4.74, 5.05, 10.73, 2.52, 1.2, 6.53, 7.81, 4.34, \n",
    "                             4.63, 1.67, 0.01, 0.21, 0.01, 0.47])/100\n",
    "real_freqs['en'] = np.array([8.167, 1.492, 2.782, 4.253, 12.702, 2.228, 2.015, 6.094, 6.966, \n",
    "                             0.153, 0.772, 4.025, 2.406, 6.749, 7.507, 1.929, 0.095, 5.987, \n",
    "                             6.327, 9.056, 2.758, 0.978, 2.36, 0.15, 1.974, 0.074])/100\n",
    "real_freqs['fr'] = np.array([7.636+0.486, 0.901, 3.26+0.075, 3.669, 14.715+0.271+1.904+0.225, \n",
    "                             1.066, 0.866, 0.737, 7.529+0.045+0.005, 0.545, \n",
    "                             0.049, 5.456, 2.968, 7.095, 5.378, 3.021, 1.362, 6.553, \n",
    "                             7.948, 7.244, 6.311+0.058, 1.628, 0.114, 0.387, 0.308, 0.136])/100"
   ]
  },
  {
   "cell_type": "markdown",
   "id": "90252747-ab8e-413d-8181-2f9a821df22b",
   "metadata": {
    "tags": []
   },
   "source": [
    "#### Comparison"
   ]
  },
  {
   "cell_type": "code",
   "execution_count": 18,
   "id": "00bbc0d5-675e-4f68-b07e-1933f23c7190",
   "metadata": {},
   "outputs": [
    {
     "data": {
      "image/png": "[encoded data removed]",
      "text/plain": [
       "<Figure size 576x432 with 1 Axes>"
      ]
     },
     "metadata": {
      "needs_background": "light"
     },
     "output_type": "display_data"
    }
   ],
   "source": [
    "x = np.arange(len(letter_labels))  # the label locations\n",
    "width = 0.2  # the width of the bars\n",
    "\n",
    "fig, ax = plt.subplots(figsize=(8, 6))\n",
    "rects1 = ax.bar(x - 0.3, det_results['pt'][:,0]/n_letters_pt, width, label='Portuguese')\n",
    "rects2 = ax.bar(x - 0.1, det_results['en'][:,0]/n_letters_en, width, label='English')\n",
    "rects3 = ax.bar(x + 0.1, det_results['fr'][:,0]/n_letters_fr, width, label='French')\n",
    "\n",
    "ax.set_ylabel('Relative Frequency')\n",
    "ax.set_xlabel('Letter')\n",
    "ax.set_xticks(x, letter_labels)\n",
    "ax.legend()\n",
    "\n",
    "fig.tight_layout()\n",
    "\n",
    "fig.savefig('./results/plots/01_languages_comparison.png', dpi=300)"
   ]
  },
  {
   "cell_type": "markdown",
   "id": "1ecbfb80-2ee9-48d3-a76d-3c684aeec2d9",
   "metadata": {},
   "source": [
    "#### Portuguese"
   ]
  },
  {
   "cell_type": "code",
   "execution_count": 19,
   "id": "e60a57f6-82fa-4e74-9113-bdcc26ad45e8",
   "metadata": {},
   "outputs": [
    {
     "data": {
      "image/png": "[encoded data removed]",
      "text/plain": [
       "<Figure size 432x288 with 1 Axes>"
      ]
     },
     "metadata": {
      "needs_background": "light"
     },
     "output_type": "display_data"
    }
   ],
   "source": [
    "fig, _ = plot_abs_freqs(det_results, 'pt')"
   ]
  },
  {
   "cell_type": "code",
   "execution_count": 20,
   "id": "4441ddd6-9b5e-42e1-8c7e-65b9d08792f0",
   "metadata": {},
   "outputs": [
    {
     "data": {
      "image/png": "[encoded data removed]",
      "text/plain": [
       "<Figure size 432x288 with 1 Axes>"
      ]
     },
     "metadata": {
      "needs_background": "light"
     },
     "output_type": "display_data"
    }
   ],
   "source": [
    "fig, ax = plot_rel_freqs(det_results, 'pt', compare='real')\n",
    "ax.set_title('Portuguese');\n",
    "fig.savefig('./results/plots/02_expected_compar_pt', dpi=300)"
   ]
  },
  {
   "cell_type": "code",
   "execution_count": 21,
   "id": "bb47db32-5576-4c78-9ffd-1791903dc27e",
   "metadata": {},
   "outputs": [
    {
     "name": "stdout",
     "output_type": "stream",
     "text": [
      "A  37584  0.1351\n",
      "E  36029  0.1295\n",
      "O  28623  0.1029\n",
      "S  22100  0.0794\n",
      "R  18555  0.0667\n"
     ]
    }
   ],
   "source": [
    "print_max_freqs(det_results, 'pt')\n",
    "# AEOSR -> equal"
   ]
  },
  {
   "cell_type": "code",
   "execution_count": 22,
   "id": "40139f0f-b84b-4919-b89c-908013e07492",
   "metadata": {},
   "outputs": [
    {
     "name": "stdout",
     "output_type": "stream",
     "text": [
      "K     73  0.0003\n",
      "W    100  0.0004\n",
      "Y    214  0.0008\n",
      "X    813  0.0029\n",
      "J    849  0.0031\n"
     ]
    }
   ],
   "source": [
    "print_min_freqs(det_results, 'pt')\n",
    "# YWKXJ -> same letters, slightly different order"
   ]
  },
  {
   "cell_type": "markdown",
   "id": "76dd3ec2-150b-4b8b-a606-420b4d89756a",
   "metadata": {},
   "source": [
    "#### English"
   ]
  },
  {
   "cell_type": "code",
   "execution_count": 23,
   "id": "286627ea-ae2e-4377-b896-9a17c233569c",
   "metadata": {},
   "outputs": [
    {
     "data": {
      "image/png": "[encoded data removed]",
      "text/plain": [
       "<Figure size 432x288 with 1 Axes>"
      ]
     },
     "metadata": {
      "needs_background": "light"
     },
     "output_type": "display_data"
    }
   ],
   "source": [
    "fig, _ = plot_abs_freqs(det_results, 'en')"
   ]
  },
  {
   "cell_type": "code",
   "execution_count": 24,
   "id": "36381c77-9f26-49df-bbbc-47161452e7bb",
   "metadata": {},
   "outputs": [
    {
     "data": {
      "image/png": "[encoded data removed]",
      "text/plain": [
       "<Figure size 432x288 with 1 Axes>"
      ]
     },
     "metadata": {
      "needs_background": "light"
     },
     "output_type": "display_data"
    }
   ],
   "source": [
    "fig, ax = plot_rel_freqs(det_results, 'en', compare=True)\n",
    "ax.set_title('English');\n",
    "fig.savefig('./results/plots/02_expected_compar_en', dpi=300)"
   ]
  },
  {
   "cell_type": "code",
   "execution_count": 25,
   "id": "6938b530-14ca-42fa-8e11-a3efed245ac8",
   "metadata": {},
   "outputs": [
    {
     "name": "stdout",
     "output_type": "stream",
     "text": [
      "E  30350  0.1288\n",
      "T  23325  0.0990\n",
      "A  18575  0.0788\n",
      "O  17888  0.0759\n",
      "N  16591  0.0704\n",
      "I  16470  0.0699\n"
     ]
    }
   ],
   "source": [
    "print_max_freqs(det_results, 'en', n=6)\n",
    "# ETAOI N -> same letters, slightly different order"
   ]
  },
  {
   "cell_type": "code",
   "execution_count": 26,
   "id": "84c4b690-9853-4492-8d56-7d12ae931610",
   "metadata": {},
   "outputs": [
    {
     "name": "stdout",
     "output_type": "stream",
     "text": [
      "Z    124  0.0005\n",
      "Q    319  0.0014\n",
      "J    520  0.0022\n",
      "X    544  0.0023\n",
      "K   1243  0.0053\n"
     ]
    }
   ],
   "source": [
    "print_min_freqs(det_results, 'en')\n",
    "# ZQXJK -> same letters, slightly different order"
   ]
  },
  {
   "cell_type": "markdown",
   "id": "34805cfd-3756-453e-92e4-1cee0424d305",
   "metadata": {},
   "source": [
    "#### French"
   ]
  },
  {
   "cell_type": "code",
   "execution_count": 27,
   "id": "ba673aae-f9c9-4239-8f86-f391aa68948c",
   "metadata": {},
   "outputs": [
    {
     "data": {
      "image/png": "[encoded data removed]",
      "text/plain": [
       "<Figure size 432x288 with 1 Axes>"
      ]
     },
     "metadata": {
      "needs_background": "light"
     },
     "output_type": "display_data"
    }
   ],
   "source": [
    "fig, _ = plot_abs_freqs(det_results, 'fr')"
   ]
  },
  {
   "cell_type": "code",
   "execution_count": 28,
   "id": "8660053f-c833-4484-91c6-d3fb3f6c6f9b",
   "metadata": {},
   "outputs": [
    {
     "data": {
      "image/png": "[encoded data removed]",
      "text/plain": [
       "<Figure size 432x288 with 1 Axes>"
      ]
     },
     "metadata": {
      "needs_background": "light"
     },
     "output_type": "display_data"
    }
   ],
   "source": [
    "fig, ax = plot_rel_freqs(det_results, 'fr', compare=True)\n",
    "ax.set_title('French')\n",
    "fig.savefig('./results/plots/02_expected_compar_fr', dpi=300)"
   ]
  },
  {
   "cell_type": "code",
   "execution_count": 29,
   "id": "9aba6bfd-d416-4aa3-858d-b9cf5a733329",
   "metadata": {},
   "outputs": [
    {
     "name": "stdout",
     "output_type": "stream",
     "text": [
      "E  45127  0.1693\n",
      "A  21969  0.0824\n",
      "S  21579  0.0810\n",
      "N  20058  0.0753\n",
      "I  19715  0.0740\n",
      "T  19480  0.0731\n"
     ]
    }
   ],
   "source": [
    "print_max_freqs(det_results, 'fr', n=6)\n",
    "# EASIT N -> same letters, slightly different order"
   ]
  },
  {
   "cell_type": "code",
   "execution_count": 30,
   "id": "27a2e03c-e1b8-4df3-91ec-834d50a616a2",
   "metadata": {},
   "outputs": [
    {
     "name": "stdout",
     "output_type": "stream",
     "text": [
      "K     81  0.0003\n",
      "W    104  0.0004\n",
      "Z    441  0.0017\n",
      "Y    702  0.0026\n",
      "J   1039  0.0039\n",
      "X   1351  0.0051\n"
     ]
    }
   ],
   "source": [
    "print_min_freqs(det_results, 'fr', n=6)\n",
    "# KWZYX J -> same letters, slightly different order"
   ]
  },
  {
   "cell_type": "markdown",
   "id": "81d00370-dd8b-4565-9576-ecab3175a187",
   "metadata": {
    "tags": []
   },
   "source": [
    "## Fixed probability counter"
   ]
  },
  {
   "cell_type": "code",
   "execution_count": 31,
   "id": "4f57092d-ecee-40b9-b3ee-62b1bc24bea5",
   "metadata": {
    "tags": []
   },
   "outputs": [],
   "source": [
    "with open('./results/fix_prob_counter_x1000.json', 'r') as f: \n",
    "    fix_prob_results = json.load(f)   \n",
    "fix_results = dict_to_np(fix_prob_results)"
   ]
  },
  {
   "cell_type": "code",
   "execution_count": 32,
   "id": "94a1b0a5-c57f-4206-8c21-89fe35c3a19e",
   "metadata": {},
   "outputs": [],
   "source": [
    "with open('./results/fix_prob_counter_x100.json', 'r') as f: \n",
    "    fix_prob_results = json.load(f)    \n",
    "fix_results_100 = dict_to_np(fix_prob_results)"
   ]
  },
  {
   "cell_type": "markdown",
   "id": "99ae5931-ba85-4a6a-bd2e-8e9ef642af31",
   "metadata": {
    "tags": []
   },
   "source": [
    "### Distributions"
   ]
  },
  {
   "cell_type": "code",
   "execution_count": 33,
   "id": "cb1bfeea-6475-41fe-ab97-4f9b200e86b2",
   "metadata": {},
   "outputs": [
    {
     "data": {
      "text/plain": [
       "(1000,)"
      ]
     },
     "execution_count": 33,
     "metadata": {},
     "output_type": "execute_result"
    }
   ],
   "source": [
    "sample = fix_results['pt'][0,:]  # counts of A in PT\n",
    "sample.shape"
   ]
  },
  {
   "cell_type": "code",
   "execution_count": 34,
   "id": "da55426b-0319-499a-807a-b867e6abd368",
   "metadata": {},
   "outputs": [
    {
     "data": {
      "text/plain": [
       "(2185, 2482)"
      ]
     },
     "execution_count": 34,
     "metadata": {},
     "output_type": "execute_result"
    }
   ],
   "source": [
    "min(sample), max(sample)"
   ]
  },
  {
   "cell_type": "code",
   "execution_count": 35,
   "id": "a77e2a49-e538-4f97-8b07-6fa00639559d",
   "metadata": {},
   "outputs": [
    {
     "data": {
      "text/plain": [
       "(2348.115, 47.31895788159329)"
      ]
     },
     "execution_count": 35,
     "metadata": {},
     "output_type": "execute_result"
    }
   ],
   "source": [
    "np.mean(sample), np.std(sample)"
   ]
  },
  {
   "cell_type": "code",
   "execution_count": 36,
   "id": "b255a277-9564-4f73-8177-af1c4149a378",
   "metadata": {},
   "outputs": [
    {
     "data": {
      "text/plain": [
       "(100,)"
      ]
     },
     "execution_count": 36,
     "metadata": {},
     "output_type": "execute_result"
    }
   ],
   "source": [
    "sample_100 = fix_results_100['pt'][0,:]  # counts of A in PT\n",
    "sample_100.shape"
   ]
  },
  {
   "cell_type": "code",
   "execution_count": 37,
   "id": "36569356-3efe-4233-a00b-a13aa6512713",
   "metadata": {},
   "outputs": [
    {
     "data": {
      "text/plain": [
       "(2253, 2461)"
      ]
     },
     "execution_count": 37,
     "metadata": {},
     "output_type": "execute_result"
    }
   ],
   "source": [
    "min(sample_100), max(sample_100)"
   ]
  },
  {
   "cell_type": "code",
   "execution_count": 38,
   "id": "9d682620-0eae-4fcd-b0fc-0aea8b4c0768",
   "metadata": {},
   "outputs": [
    {
     "data": {
      "text/plain": [
       "(2346.71, 45.03960368386916)"
      ]
     },
     "execution_count": 38,
     "metadata": {},
     "output_type": "execute_result"
    }
   ],
   "source": [
    "np.mean(sample_100), np.std(sample_100)"
   ]
  },
  {
   "cell_type": "code",
   "execution_count": 39,
   "id": "f98a00a0-3473-4972-ac01-e54857936fea",
   "metadata": {},
   "outputs": [
    {
     "data": {
      "image/png": "[encoded data removed]",
      "text/plain": [
       "<Figure size 432x288 with 2 Axes>"
      ]
     },
     "metadata": {
      "needs_background": "light"
     },
     "output_type": "display_data"
    }
   ],
   "source": [
    "fig, axes = plt.subplots(1, 2)\n",
    "fig.suptitle('Letter: A, Language: Portuguese', y=1)\n",
    "axes[0].hist(sample_100)\n",
    "axes[0].set_ylabel('Absolute frequency')\n",
    "axes[0].set_title('100 repetitions')\n",
    "axes[1].hist(sample);\n",
    "axes[1].set_title('1000 repetitions')\n",
    "fig.supxlabel('Counter result');\n",
    "\n",
    "fig.savefig('./results/plots/03_fix_dist_A', dpi=300)"
   ]
  },
  {
   "cell_type": "code",
   "execution_count": 40,
   "id": "8cd051c3-bf23-4c82-86f7-0acd00e87ce9",
   "metadata": {},
   "outputs": [],
   "source": [
    "idx_K = ord('K')-ord('A')\n",
    "sample2 = fix_results['pt'][idx_K,:]  # counts of K in PT"
   ]
  },
  {
   "cell_type": "code",
   "execution_count": 41,
   "id": "043dcc0a-68fc-4bc1-8547-5fe6034a514c",
   "metadata": {},
   "outputs": [
    {
     "data": {
      "text/plain": [
       "(0, 11)"
      ]
     },
     "execution_count": 41,
     "metadata": {},
     "output_type": "execute_result"
    }
   ],
   "source": [
    "min(sample2), max(sample2)"
   ]
  },
  {
   "cell_type": "code",
   "execution_count": 42,
   "id": "82dcd328-e8d8-4d54-8065-79558e71a24f",
   "metadata": {},
   "outputs": [
    {
     "data": {
      "text/plain": [
       "(4.684, 2.165212229782568)"
      ]
     },
     "execution_count": 42,
     "metadata": {},
     "output_type": "execute_result"
    }
   ],
   "source": [
    "np.mean(sample2), np.std(sample2)"
   ]
  },
  {
   "cell_type": "code",
   "execution_count": 43,
   "id": "ccbe2a90-d376-463b-bb1f-2d731a4a6082",
   "metadata": {},
   "outputs": [],
   "source": [
    "sample2_100 = fix_results_100['pt'][idx_K,:]  # counts of K in PT"
   ]
  },
  {
   "cell_type": "code",
   "execution_count": 44,
   "id": "f0ff450c-91fc-40df-be61-3d2d519d44ee",
   "metadata": {},
   "outputs": [
    {
     "data": {
      "text/plain": [
       "(1, 9)"
      ]
     },
     "execution_count": 44,
     "metadata": {},
     "output_type": "execute_result"
    }
   ],
   "source": [
    "min(sample2_100), max(sample2_100)"
   ]
  },
  {
   "cell_type": "code",
   "execution_count": 45,
   "id": "ed2c8489-c6e3-4ce3-899d-ab6a7ff97ce6",
   "metadata": {},
   "outputs": [
    {
     "data": {
      "text/plain": [
       "(4.43, 1.8614779074702983)"
      ]
     },
     "execution_count": 45,
     "metadata": {},
     "output_type": "execute_result"
    }
   ],
   "source": [
    "np.mean(sample2_100), np.std(sample2_100)"
   ]
  },
  {
   "cell_type": "code",
   "execution_count": 46,
   "id": "6c440434-3128-4baf-bf34-992b9b004382",
   "metadata": {},
   "outputs": [
    {
     "data": {
      "image/png": "[encoded data removed]",
      "text/plain": [
       "<Figure size 432x288 with 2 Axes>"
      ]
     },
     "metadata": {
      "needs_background": "light"
     },
     "output_type": "display_data"
    }
   ],
   "source": [
    "fig, axes = plt.subplots(1, 2)\n",
    "fig.suptitle('Letter: K, Language: Portuguese', y=1)\n",
    "axes[0].hist(sample2_100, bins=9)\n",
    "axes[0].set_ylabel('Absolute frequency')\n",
    "axes[0].set_title('100 repetitions')\n",
    "axes[1].hist(sample2);\n",
    "axes[1].set_title('1000 repetitions')\n",
    "fig.supxlabel('Counter result');\n",
    "\n",
    "fig.savefig('./results/plots/03_fix_dist_K', dpi=300)"
   ]
  },
  {
   "cell_type": "markdown",
   "id": "93492d30-09aa-4a6b-85c2-d525e18b02a2",
   "metadata": {},
   "source": [
    "### Expected values"
   ]
  },
  {
   "cell_type": "code",
   "execution_count": 47,
   "id": "79a7e26d-3b9d-4748-ad8f-554e1c77308b",
   "metadata": {},
   "outputs": [],
   "source": [
    "fix_expect = {}\n",
    "for lang in ('pt', 'en', 'fr'):\n",
    "    fix_expect[lang] = fix_results[lang].mean(axis=1)"
   ]
  },
  {
   "cell_type": "code",
   "execution_count": 48,
   "id": "1c6fbe42-2fcb-4855-954a-4ae05c6fb8d1",
   "metadata": {},
   "outputs": [],
   "source": [
    "teo_fix_expect = {}\n",
    "for lang in ('pt', 'en', 'fr'):\n",
    "    teo_fix_expect[lang] = det_results[lang] / 16"
   ]
  },
  {
   "cell_type": "code",
   "execution_count": 49,
   "id": "96739c31-15b9-49ad-a78c-68c2fbcec175",
   "metadata": {},
   "outputs": [],
   "source": [
    "def plot_expected_values(res, teo, lang):\n",
    "    max_idxs = (-res[lang]).ravel().argsort()\n",
    "    fig, ax = plt.subplots()\n",
    "    ax.scatter(range(26), res[lang][max_idxs], label='Results')\n",
    "    ax.plot(range(26), teo[lang][max_idxs], 'k--', label='Theoretical')\n",
    "    ax.set_ylabel('Log of expected value')\n",
    "    ax.set_yscale('log')\n",
    "    ax.get_xaxis().set_visible(False)\n",
    "    ax.legend()\n",
    "    \n",
    "    return fig, ax"
   ]
  },
  {
   "cell_type": "code",
   "execution_count": 50,
   "id": "665df504-6484-4994-8bed-dff5804ada70",
   "metadata": {},
   "outputs": [
    {
     "data": {
      "image/png": "[encoded data removed]",
      "text/plain": [
       "<Figure size 432x288 with 1 Axes>"
      ]
     },
     "metadata": {
      "needs_background": "light"
     },
     "output_type": "display_data"
    }
   ],
   "source": [
    "fig, _ = plot_expected_values(fix_expect, teo_fix_expect, 'pt')\n",
    "fig.savefig('./results/plots/04_fix_expected_pt')"
   ]
  },
  {
   "cell_type": "code",
   "execution_count": 51,
   "id": "ea09dc1a-b32c-4ff0-9644-da055170c2a9",
   "metadata": {},
   "outputs": [
    {
     "data": {
      "image/png": "[encoded data removed]",
      "text/plain": [
       "<Figure size 432x288 with 1 Axes>"
      ]
     },
     "metadata": {
      "needs_background": "light"
     },
     "output_type": "display_data"
    }
   ],
   "source": [
    "fig, _ = plot_expected_values(fix_expect, teo_fix_expect, 'en')\n",
    "fig.savefig('./results/plots/04_fix_expected_en')"
   ]
  },
  {
   "cell_type": "code",
   "execution_count": 52,
   "id": "69d586bd-7569-49ad-96be-ce3a56bd5711",
   "metadata": {},
   "outputs": [
    {
     "data": {
      "image/png": "[encoded data removed]",
      "text/plain": [
       "<Figure size 432x288 with 1 Axes>"
      ]
     },
     "metadata": {
      "needs_background": "light"
     },
     "output_type": "display_data"
    }
   ],
   "source": [
    "fig, _ = plot_expected_values(fix_expect, teo_fix_expect, 'fr')\n",
    "fig.savefig('./results/plots/04_fix_expected_fr')"
   ]
  },
  {
   "cell_type": "markdown",
   "id": "3965ddbc-5ceb-4ab1-bc44-1f12ea6eabfa",
   "metadata": {
    "tags": []
   },
   "source": [
    "### Tables"
   ]
  },
  {
   "cell_type": "code",
   "execution_count": 53,
   "id": "f97c5b9c-0bf9-4ca7-8191-95b24bd999e2",
   "metadata": {},
   "outputs": [],
   "source": [
    "def create_fix_table(results, lang, n=5):        \n",
    "    data = {\n",
    "        'Letter': letter_labels,\n",
    "        'Exact counts': det_results[lang].ravel(),\n",
    "        'Average estimate': np.mean(results[lang], axis=1) * 16, \n",
    "        'Minimum estimate': np.min(results[lang], axis=1) * 16,\n",
    "        'Maximum estimate': np.max(results[lang], axis=1) * 16,\n",
    "        'Standard deviation': np.std(results[lang] * 16, axis=1),        \n",
    "    }    \n",
    "    \n",
    "    df = pd.DataFrame(data)\n",
    "    df['Average relative error'] = np.abs(df['Average estimate'] - df['Exact counts'])/df['Exact counts'] * 100\n",
    "    df['Maximum relative error'] = np.max((np.abs(df['Minimum estimate'] - df['Exact counts'])/df['Exact counts'],\n",
    "                                           np.abs(df['Maximum estimate'] - df['Exact counts'])/df['Exact counts']), \n",
    "                                           axis=0) * 100\n",
    "    \n",
    "    return df\n",
    "        "
   ]
  },
  {
   "cell_type": "code",
   "execution_count": 54,
   "id": "eb1f9289-6a85-4133-a0d0-eecd34149491",
   "metadata": {
    "tags": []
   },
   "outputs": [],
   "source": [
    "df_pt = create_fix_table(fix_results, 'pt')"
   ]
  },
  {
   "cell_type": "code",
   "execution_count": 55,
   "id": "d5f153a0-abff-4588-92ea-245175b34b7b",
   "metadata": {
    "tags": []
   },
   "outputs": [
    {
     "data": {
      "text/html": [
       "<div>\n",
       "<style scoped>\n",
       "    .dataframe tbody tr th:only-of-type {\n",
       "        vertical-align: middle;\n",
       "    }\n",
       "\n",
       "    .dataframe tbody tr th {\n",
       "        vertical-align: top;\n",
       "    }\n",
       "\n",
       "    .dataframe thead th {\n",
       "        text-align: right;\n",
       "    }\n",
       "</style>\n",
       "<table border=\"1\" class=\"dataframe\">\n",
       "  <thead>\n",
       "    <tr style=\"text-align: right;\">\n",
       "      <th></th>\n",
       "      <th>Letter</th>\n",
       "      <th>Exact counts</th>\n",
       "      <th>Average estimate</th>\n",
       "      <th>Minimum estimate</th>\n",
       "      <th>Maximum estimate</th>\n",
       "      <th>Standard deviation</th>\n",
       "      <th>Average relative error</th>\n",
       "      <th>Maximum relative error</th>\n",
       "    </tr>\n",
       "  </thead>\n",
       "  <tbody>\n",
       "    <tr>\n",
       "      <th>0</th>\n",
       "      <td>A</td>\n",
       "      <td>37584</td>\n",
       "      <td>37569.840</td>\n",
       "      <td>34960</td>\n",
       "      <td>39712</td>\n",
       "      <td>757.103326</td>\n",
       "      <td>0.037676</td>\n",
       "      <td>6.981694</td>\n",
       "    </tr>\n",
       "    <tr>\n",
       "      <th>4</th>\n",
       "      <td>E</td>\n",
       "      <td>36029</td>\n",
       "      <td>36029.968</td>\n",
       "      <td>33296</td>\n",
       "      <td>38416</td>\n",
       "      <td>754.474036</td>\n",
       "      <td>0.002687</td>\n",
       "      <td>7.585556</td>\n",
       "    </tr>\n",
       "    <tr>\n",
       "      <th>14</th>\n",
       "      <td>O</td>\n",
       "      <td>28623</td>\n",
       "      <td>28642.320</td>\n",
       "      <td>26592</td>\n",
       "      <td>31520</td>\n",
       "      <td>643.988368</td>\n",
       "      <td>0.067498</td>\n",
       "      <td>10.121231</td>\n",
       "    </tr>\n",
       "    <tr>\n",
       "      <th>18</th>\n",
       "      <td>S</td>\n",
       "      <td>22100</td>\n",
       "      <td>22098.144</td>\n",
       "      <td>19680</td>\n",
       "      <td>24096</td>\n",
       "      <td>585.668202</td>\n",
       "      <td>0.008398</td>\n",
       "      <td>10.950226</td>\n",
       "    </tr>\n",
       "    <tr>\n",
       "      <th>17</th>\n",
       "      <td>R</td>\n",
       "      <td>18555</td>\n",
       "      <td>18551.568</td>\n",
       "      <td>16768</td>\n",
       "      <td>20656</td>\n",
       "      <td>538.199968</td>\n",
       "      <td>0.018496</td>\n",
       "      <td>11.323094</td>\n",
       "    </tr>\n",
       "    <tr>\n",
       "      <th>8</th>\n",
       "      <td>I</td>\n",
       "      <td>16980</td>\n",
       "      <td>16998.880</td>\n",
       "      <td>15296</td>\n",
       "      <td>18480</td>\n",
       "      <td>498.064118</td>\n",
       "      <td>0.111190</td>\n",
       "      <td>9.917550</td>\n",
       "    </tr>\n",
       "    <tr>\n",
       "      <th>3</th>\n",
       "      <td>D</td>\n",
       "      <td>14444</td>\n",
       "      <td>14442.048</td>\n",
       "      <td>12896</td>\n",
       "      <td>15984</td>\n",
       "      <td>476.925518</td>\n",
       "      <td>0.013514</td>\n",
       "      <td>10.717253</td>\n",
       "    </tr>\n",
       "    <tr>\n",
       "      <th>13</th>\n",
       "      <td>N</td>\n",
       "      <td>14216</td>\n",
       "      <td>14235.280</td>\n",
       "      <td>13024</td>\n",
       "      <td>15584</td>\n",
       "      <td>474.705190</td>\n",
       "      <td>0.135622</td>\n",
       "      <td>9.622960</td>\n",
       "    </tr>\n",
       "    <tr>\n",
       "      <th>19</th>\n",
       "      <td>T</td>\n",
       "      <td>13684</td>\n",
       "      <td>13670.512</td>\n",
       "      <td>12368</td>\n",
       "      <td>15312</td>\n",
       "      <td>439.601667</td>\n",
       "      <td>0.098568</td>\n",
       "      <td>11.897106</td>\n",
       "    </tr>\n",
       "    <tr>\n",
       "      <th>12</th>\n",
       "      <td>M</td>\n",
       "      <td>12923</td>\n",
       "      <td>12938.544</td>\n",
       "      <td>11584</td>\n",
       "      <td>14320</td>\n",
       "      <td>444.557263</td>\n",
       "      <td>0.120282</td>\n",
       "      <td>10.810183</td>\n",
       "    </tr>\n",
       "    <tr>\n",
       "      <th>2</th>\n",
       "      <td>C</td>\n",
       "      <td>11270</td>\n",
       "      <td>11286.384</td>\n",
       "      <td>10192</td>\n",
       "      <td>12752</td>\n",
       "      <td>405.234170</td>\n",
       "      <td>0.145377</td>\n",
       "      <td>13.149956</td>\n",
       "    </tr>\n",
       "    <tr>\n",
       "      <th>20</th>\n",
       "      <td>U</td>\n",
       "      <td>11252</td>\n",
       "      <td>11246.176</td>\n",
       "      <td>10032</td>\n",
       "      <td>12704</td>\n",
       "      <td>410.164300</td>\n",
       "      <td>0.051760</td>\n",
       "      <td>12.904373</td>\n",
       "    </tr>\n",
       "    <tr>\n",
       "      <th>11</th>\n",
       "      <td>L</td>\n",
       "      <td>9073</td>\n",
       "      <td>9078.640</td>\n",
       "      <td>7792</td>\n",
       "      <td>10448</td>\n",
       "      <td>381.747653</td>\n",
       "      <td>0.062162</td>\n",
       "      <td>15.154855</td>\n",
       "    </tr>\n",
       "    <tr>\n",
       "      <th>15</th>\n",
       "      <td>P</td>\n",
       "      <td>8339</td>\n",
       "      <td>8334.432</td>\n",
       "      <td>7056</td>\n",
       "      <td>9344</td>\n",
       "      <td>351.073105</td>\n",
       "      <td>0.054779</td>\n",
       "      <td>15.385538</td>\n",
       "    </tr>\n",
       "    <tr>\n",
       "      <th>21</th>\n",
       "      <td>V</td>\n",
       "      <td>4301</td>\n",
       "      <td>4287.120</td>\n",
       "      <td>3600</td>\n",
       "      <td>5152</td>\n",
       "      <td>249.898271</td>\n",
       "      <td>0.322716</td>\n",
       "      <td>19.786096</td>\n",
       "    </tr>\n",
       "    <tr>\n",
       "      <th>7</th>\n",
       "      <td>H</td>\n",
       "      <td>3474</td>\n",
       "      <td>3474.832</td>\n",
       "      <td>2832</td>\n",
       "      <td>4176</td>\n",
       "      <td>223.601744</td>\n",
       "      <td>0.023949</td>\n",
       "      <td>20.207254</td>\n",
       "    </tr>\n",
       "    <tr>\n",
       "      <th>6</th>\n",
       "      <td>G</td>\n",
       "      <td>3250</td>\n",
       "      <td>3254.624</td>\n",
       "      <td>2656</td>\n",
       "      <td>4112</td>\n",
       "      <td>228.340015</td>\n",
       "      <td>0.142277</td>\n",
       "      <td>26.523077</td>\n",
       "    </tr>\n",
       "    <tr>\n",
       "      <th>1</th>\n",
       "      <td>B</td>\n",
       "      <td>3183</td>\n",
       "      <td>3165.040</td>\n",
       "      <td>2496</td>\n",
       "      <td>3824</td>\n",
       "      <td>217.376812</td>\n",
       "      <td>0.564248</td>\n",
       "      <td>21.583412</td>\n",
       "    </tr>\n",
       "    <tr>\n",
       "      <th>16</th>\n",
       "      <td>Q</td>\n",
       "      <td>3137</td>\n",
       "      <td>3130.368</td>\n",
       "      <td>2528</td>\n",
       "      <td>3824</td>\n",
       "      <td>214.922406</td>\n",
       "      <td>0.211412</td>\n",
       "      <td>21.899904</td>\n",
       "    </tr>\n",
       "    <tr>\n",
       "      <th>5</th>\n",
       "      <td>F</td>\n",
       "      <td>2666</td>\n",
       "      <td>2674.656</td>\n",
       "      <td>2096</td>\n",
       "      <td>3360</td>\n",
       "      <td>190.140626</td>\n",
       "      <td>0.324681</td>\n",
       "      <td>26.031508</td>\n",
       "    </tr>\n",
       "    <tr>\n",
       "      <th>25</th>\n",
       "      <td>Z</td>\n",
       "      <td>1107</td>\n",
       "      <td>1106.272</td>\n",
       "      <td>752</td>\n",
       "      <td>1504</td>\n",
       "      <td>126.351217</td>\n",
       "      <td>0.065763</td>\n",
       "      <td>35.862692</td>\n",
       "    </tr>\n",
       "    <tr>\n",
       "      <th>9</th>\n",
       "      <td>J</td>\n",
       "      <td>849</td>\n",
       "      <td>851.344</td>\n",
       "      <td>528</td>\n",
       "      <td>1216</td>\n",
       "      <td>112.086046</td>\n",
       "      <td>0.276090</td>\n",
       "      <td>43.227326</td>\n",
       "    </tr>\n",
       "    <tr>\n",
       "      <th>23</th>\n",
       "      <td>X</td>\n",
       "      <td>813</td>\n",
       "      <td>803.984</td>\n",
       "      <td>496</td>\n",
       "      <td>1168</td>\n",
       "      <td>113.598872</td>\n",
       "      <td>1.108979</td>\n",
       "      <td>43.665437</td>\n",
       "    </tr>\n",
       "    <tr>\n",
       "      <th>24</th>\n",
       "      <td>Y</td>\n",
       "      <td>214</td>\n",
       "      <td>213.424</td>\n",
       "      <td>64</td>\n",
       "      <td>416</td>\n",
       "      <td>54.901405</td>\n",
       "      <td>0.269159</td>\n",
       "      <td>94.392523</td>\n",
       "    </tr>\n",
       "    <tr>\n",
       "      <th>22</th>\n",
       "      <td>W</td>\n",
       "      <td>100</td>\n",
       "      <td>99.424</td>\n",
       "      <td>0</td>\n",
       "      <td>240</td>\n",
       "      <td>38.679662</td>\n",
       "      <td>0.576000</td>\n",
       "      <td>140.000000</td>\n",
       "    </tr>\n",
       "    <tr>\n",
       "      <th>10</th>\n",
       "      <td>K</td>\n",
       "      <td>73</td>\n",
       "      <td>74.944</td>\n",
       "      <td>0</td>\n",
       "      <td>176</td>\n",
       "      <td>34.643396</td>\n",
       "      <td>2.663014</td>\n",
       "      <td>141.095890</td>\n",
       "    </tr>\n",
       "  </tbody>\n",
       "</table>\n",
       "</div>"
      ],
      "text/plain": [
       "   Letter  Exact counts  Average estimate  Minimum estimate  Maximum estimate  \\\n",
       "0       A         37584         37569.840             34960             39712   \n",
       "4       E         36029         36029.968             33296             38416   \n",
       "14      O         28623         28642.320             26592             31520   \n",
       "18      S         22100         22098.144             19680             24096   \n",
       "17      R         18555         18551.568             16768             20656   \n",
       "8       I         16980         16998.880             15296             18480   \n",
       "3       D         14444         14442.048             12896             15984   \n",
       "13      N         14216         14235.280             13024             15584   \n",
       "19      T         13684         13670.512             12368             15312   \n",
       "12      M         12923         12938.544             11584             14320   \n",
       "2       C         11270         11286.384             10192             12752   \n",
       "20      U         11252         11246.176             10032             12704   \n",
       "11      L          9073          9078.640              7792             10448   \n",
       "15      P          8339          8334.432              7056              9344   \n",
       "21      V          4301          4287.120              3600              5152   \n",
       "7       H          3474          3474.832              2832              4176   \n",
       "6       G          3250          3254.624              2656              4112   \n",
       "1       B          3183          3165.040              2496              3824   \n",
       "16      Q          3137          3130.368              2528              3824   \n",
       "5       F          2666          2674.656              2096              3360   \n",
       "25      Z          1107          1106.272               752              1504   \n",
       "9       J           849           851.344               528              1216   \n",
       "23      X           813           803.984               496              1168   \n",
       "24      Y           214           213.424                64               416   \n",
       "22      W           100            99.424                 0               240   \n",
       "10      K            73            74.944                 0               176   \n",
       "\n",
       "    Standard deviation  Average relative error  Maximum relative error  \n",
       "0           757.103326                0.037676                6.981694  \n",
       "4           754.474036                0.002687                7.585556  \n",
       "14          643.988368                0.067498               10.121231  \n",
       "18          585.668202                0.008398               10.950226  \n",
       "17          538.199968                0.018496               11.323094  \n",
       "8           498.064118                0.111190                9.917550  \n",
       "3           476.925518                0.013514               10.717253  \n",
       "13          474.705190                0.135622                9.622960  \n",
       "19          439.601667                0.098568               11.897106  \n",
       "12          444.557263                0.120282               10.810183  \n",
       "2           405.234170                0.145377               13.149956  \n",
       "20          410.164300                0.051760               12.904373  \n",
       "11          381.747653                0.062162               15.154855  \n",
       "15          351.073105                0.054779               15.385538  \n",
       "21          249.898271                0.322716               19.786096  \n",
       "7           223.601744                0.023949               20.207254  \n",
       "6           228.340015                0.142277               26.523077  \n",
       "1           217.376812                0.564248               21.583412  \n",
       "16          214.922406                0.211412               21.899904  \n",
       "5           190.140626                0.324681               26.031508  \n",
       "25          126.351217                0.065763               35.862692  \n",
       "9           112.086046                0.276090               43.227326  \n",
       "23          113.598872                1.108979               43.665437  \n",
       "24           54.901405                0.269159               94.392523  \n",
       "22           38.679662                0.576000              140.000000  \n",
       "10           34.643396                2.663014              141.095890  "
      ]
     },
     "execution_count": 55,
     "metadata": {},
     "output_type": "execute_result"
    }
   ],
   "source": [
    "df_pt = df_pt.sort_values(by='Average estimate', ascending=False)\n",
    "df_pt"
   ]
  },
  {
   "cell_type": "code",
   "execution_count": 56,
   "id": "06f4dd6d-9193-4afd-8563-0ee8ee7785ba",
   "metadata": {},
   "outputs": [
    {
     "data": {
      "text/html": [
       "<div>\n",
       "<style scoped>\n",
       "    .dataframe tbody tr th:only-of-type {\n",
       "        vertical-align: middle;\n",
       "    }\n",
       "\n",
       "    .dataframe tbody tr th {\n",
       "        vertical-align: top;\n",
       "    }\n",
       "\n",
       "    .dataframe thead th {\n",
       "        text-align: right;\n",
       "    }\n",
       "</style>\n",
       "<table border=\"1\" class=\"dataframe\">\n",
       "  <thead>\n",
       "    <tr style=\"text-align: right;\">\n",
       "      <th></th>\n",
       "      <th>Letter</th>\n",
       "      <th>Exact counts</th>\n",
       "      <th>Average estimate</th>\n",
       "      <th>Minimum estimate</th>\n",
       "      <th>Maximum estimate</th>\n",
       "      <th>Standard deviation</th>\n",
       "      <th>Average relative error</th>\n",
       "      <th>Maximum relative error</th>\n",
       "    </tr>\n",
       "  </thead>\n",
       "  <tbody>\n",
       "    <tr>\n",
       "      <th>0</th>\n",
       "      <td>A</td>\n",
       "      <td>37584</td>\n",
       "      <td>37569.840</td>\n",
       "      <td>34960</td>\n",
       "      <td>39712</td>\n",
       "      <td>757.103326</td>\n",
       "      <td>0.037676</td>\n",
       "      <td>6.981694</td>\n",
       "    </tr>\n",
       "    <tr>\n",
       "      <th>4</th>\n",
       "      <td>E</td>\n",
       "      <td>36029</td>\n",
       "      <td>36029.968</td>\n",
       "      <td>33296</td>\n",
       "      <td>38416</td>\n",
       "      <td>754.474036</td>\n",
       "      <td>0.002687</td>\n",
       "      <td>7.585556</td>\n",
       "    </tr>\n",
       "    <tr>\n",
       "      <th>14</th>\n",
       "      <td>O</td>\n",
       "      <td>28623</td>\n",
       "      <td>28642.320</td>\n",
       "      <td>26592</td>\n",
       "      <td>31520</td>\n",
       "      <td>643.988368</td>\n",
       "      <td>0.067498</td>\n",
       "      <td>10.121231</td>\n",
       "    </tr>\n",
       "    <tr>\n",
       "      <th>18</th>\n",
       "      <td>S</td>\n",
       "      <td>22100</td>\n",
       "      <td>22098.144</td>\n",
       "      <td>19680</td>\n",
       "      <td>24096</td>\n",
       "      <td>585.668202</td>\n",
       "      <td>0.008398</td>\n",
       "      <td>10.950226</td>\n",
       "    </tr>\n",
       "    <tr>\n",
       "      <th>17</th>\n",
       "      <td>R</td>\n",
       "      <td>18555</td>\n",
       "      <td>18551.568</td>\n",
       "      <td>16768</td>\n",
       "      <td>20656</td>\n",
       "      <td>538.199968</td>\n",
       "      <td>0.018496</td>\n",
       "      <td>11.323094</td>\n",
       "    </tr>\n",
       "    <tr>\n",
       "      <th>9</th>\n",
       "      <td>J</td>\n",
       "      <td>849</td>\n",
       "      <td>851.344</td>\n",
       "      <td>528</td>\n",
       "      <td>1216</td>\n",
       "      <td>112.086046</td>\n",
       "      <td>0.276090</td>\n",
       "      <td>43.227326</td>\n",
       "    </tr>\n",
       "    <tr>\n",
       "      <th>23</th>\n",
       "      <td>X</td>\n",
       "      <td>813</td>\n",
       "      <td>803.984</td>\n",
       "      <td>496</td>\n",
       "      <td>1168</td>\n",
       "      <td>113.598872</td>\n",
       "      <td>1.108979</td>\n",
       "      <td>43.665437</td>\n",
       "    </tr>\n",
       "    <tr>\n",
       "      <th>24</th>\n",
       "      <td>Y</td>\n",
       "      <td>214</td>\n",
       "      <td>213.424</td>\n",
       "      <td>64</td>\n",
       "      <td>416</td>\n",
       "      <td>54.901405</td>\n",
       "      <td>0.269159</td>\n",
       "      <td>94.392523</td>\n",
       "    </tr>\n",
       "    <tr>\n",
       "      <th>22</th>\n",
       "      <td>W</td>\n",
       "      <td>100</td>\n",
       "      <td>99.424</td>\n",
       "      <td>0</td>\n",
       "      <td>240</td>\n",
       "      <td>38.679662</td>\n",
       "      <td>0.576000</td>\n",
       "      <td>140.000000</td>\n",
       "    </tr>\n",
       "    <tr>\n",
       "      <th>10</th>\n",
       "      <td>K</td>\n",
       "      <td>73</td>\n",
       "      <td>74.944</td>\n",
       "      <td>0</td>\n",
       "      <td>176</td>\n",
       "      <td>34.643396</td>\n",
       "      <td>2.663014</td>\n",
       "      <td>141.095890</td>\n",
       "    </tr>\n",
       "  </tbody>\n",
       "</table>\n",
       "</div>"
      ],
      "text/plain": [
       "   Letter  Exact counts  Average estimate  Minimum estimate  Maximum estimate  \\\n",
       "0       A         37584         37569.840             34960             39712   \n",
       "4       E         36029         36029.968             33296             38416   \n",
       "14      O         28623         28642.320             26592             31520   \n",
       "18      S         22100         22098.144             19680             24096   \n",
       "17      R         18555         18551.568             16768             20656   \n",
       "9       J           849           851.344               528              1216   \n",
       "23      X           813           803.984               496              1168   \n",
       "24      Y           214           213.424                64               416   \n",
       "22      W           100            99.424                 0               240   \n",
       "10      K            73            74.944                 0               176   \n",
       "\n",
       "    Standard deviation  Average relative error  Maximum relative error  \n",
       "0           757.103326                0.037676                6.981694  \n",
       "4           754.474036                0.002687                7.585556  \n",
       "14          643.988368                0.067498               10.121231  \n",
       "18          585.668202                0.008398               10.950226  \n",
       "17          538.199968                0.018496               11.323094  \n",
       "9           112.086046                0.276090               43.227326  \n",
       "23          113.598872                1.108979               43.665437  \n",
       "24           54.901405                0.269159               94.392523  \n",
       "22           38.679662                0.576000              140.000000  \n",
       "10           34.643396                2.663014              141.095890  "
      ]
     },
     "execution_count": 56,
     "metadata": {},
     "output_type": "execute_result"
    }
   ],
   "source": [
    "idxs = np.r_[0:5, -5:0]\n",
    "df_pt.iloc[idxs]"
   ]
  },
  {
   "cell_type": "code",
   "execution_count": 57,
   "id": "fd4ac64c-01ef-44ac-90fa-4c1b38b96cfc",
   "metadata": {},
   "outputs": [],
   "source": [
    "with open('./results/tables/fix_table_short_pt.tex', 'w') as f:\n",
    "    (df_pt.iloc[idxs]).to_latex(f, float_format=\"{:0.2f}\".format, index=False)"
   ]
  },
  {
   "cell_type": "code",
   "execution_count": 58,
   "id": "c25ad25f-e4af-4db8-b095-40c5a3767391",
   "metadata": {},
   "outputs": [],
   "source": [
    "with open('./results/tables/fix_table_pt.tex', 'w') as f:\n",
    "    df_pt.to_latex(f, float_format=\"{:0.2f}\".format, index=False)"
   ]
  },
  {
   "cell_type": "code",
   "execution_count": 59,
   "id": "b0784365-d1d5-4232-a906-3edb8dabac32",
   "metadata": {},
   "outputs": [
    {
     "data": {
      "text/html": [
       "<div>\n",
       "<style scoped>\n",
       "    .dataframe tbody tr th:only-of-type {\n",
       "        vertical-align: middle;\n",
       "    }\n",
       "\n",
       "    .dataframe tbody tr th {\n",
       "        vertical-align: top;\n",
       "    }\n",
       "\n",
       "    .dataframe thead th {\n",
       "        text-align: right;\n",
       "    }\n",
       "</style>\n",
       "<table border=\"1\" class=\"dataframe\">\n",
       "  <thead>\n",
       "    <tr style=\"text-align: right;\">\n",
       "      <th></th>\n",
       "      <th>Letter</th>\n",
       "      <th>Exact counts</th>\n",
       "      <th>Average estimate</th>\n",
       "      <th>Minimum estimate</th>\n",
       "      <th>Maximum estimate</th>\n",
       "      <th>Standard deviation</th>\n",
       "      <th>Average relative error</th>\n",
       "      <th>Maximum relative error</th>\n",
       "    </tr>\n",
       "  </thead>\n",
       "  <tbody>\n",
       "    <tr>\n",
       "      <th>4</th>\n",
       "      <td>E</td>\n",
       "      <td>30350</td>\n",
       "      <td>30339.008</td>\n",
       "      <td>28048</td>\n",
       "      <td>32384</td>\n",
       "      <td>669.756762</td>\n",
       "      <td>0.036217</td>\n",
       "      <td>7.584843</td>\n",
       "    </tr>\n",
       "    <tr>\n",
       "      <th>19</th>\n",
       "      <td>T</td>\n",
       "      <td>23325</td>\n",
       "      <td>23311.424</td>\n",
       "      <td>21696</td>\n",
       "      <td>25200</td>\n",
       "      <td>576.384473</td>\n",
       "      <td>0.058204</td>\n",
       "      <td>8.038585</td>\n",
       "    </tr>\n",
       "    <tr>\n",
       "      <th>0</th>\n",
       "      <td>A</td>\n",
       "      <td>18575</td>\n",
       "      <td>18576.128</td>\n",
       "      <td>16704</td>\n",
       "      <td>20288</td>\n",
       "      <td>519.791696</td>\n",
       "      <td>0.006073</td>\n",
       "      <td>10.072678</td>\n",
       "    </tr>\n",
       "    <tr>\n",
       "      <th>14</th>\n",
       "      <td>O</td>\n",
       "      <td>17888</td>\n",
       "      <td>17899.568</td>\n",
       "      <td>16304</td>\n",
       "      <td>19552</td>\n",
       "      <td>512.677120</td>\n",
       "      <td>0.064669</td>\n",
       "      <td>9.302326</td>\n",
       "    </tr>\n",
       "    <tr>\n",
       "      <th>13</th>\n",
       "      <td>N</td>\n",
       "      <td>16591</td>\n",
       "      <td>16562.704</td>\n",
       "      <td>14624</td>\n",
       "      <td>17984</td>\n",
       "      <td>491.601253</td>\n",
       "      <td>0.170550</td>\n",
       "      <td>11.855825</td>\n",
       "    </tr>\n",
       "    <tr>\n",
       "      <th>8</th>\n",
       "      <td>I</td>\n",
       "      <td>16470</td>\n",
       "      <td>16482.400</td>\n",
       "      <td>14736</td>\n",
       "      <td>18160</td>\n",
       "      <td>476.551210</td>\n",
       "      <td>0.075288</td>\n",
       "      <td>10.528233</td>\n",
       "    </tr>\n",
       "    <tr>\n",
       "      <th>18</th>\n",
       "      <td>S</td>\n",
       "      <td>14875</td>\n",
       "      <td>14872.976</td>\n",
       "      <td>13648</td>\n",
       "      <td>16352</td>\n",
       "      <td>457.596721</td>\n",
       "      <td>0.013607</td>\n",
       "      <td>9.929412</td>\n",
       "    </tr>\n",
       "    <tr>\n",
       "      <th>17</th>\n",
       "      <td>R</td>\n",
       "      <td>13723</td>\n",
       "      <td>13718.736</td>\n",
       "      <td>11920</td>\n",
       "      <td>15552</td>\n",
       "      <td>447.041191</td>\n",
       "      <td>0.031072</td>\n",
       "      <td>13.327990</td>\n",
       "    </tr>\n",
       "    <tr>\n",
       "      <th>7</th>\n",
       "      <td>H</td>\n",
       "      <td>13382</td>\n",
       "      <td>13396.720</td>\n",
       "      <td>12064</td>\n",
       "      <td>14640</td>\n",
       "      <td>451.821976</td>\n",
       "      <td>0.109999</td>\n",
       "      <td>9.849051</td>\n",
       "    </tr>\n",
       "    <tr>\n",
       "      <th>11</th>\n",
       "      <td>L</td>\n",
       "      <td>9637</td>\n",
       "      <td>9644.256</td>\n",
       "      <td>8592</td>\n",
       "      <td>10992</td>\n",
       "      <td>376.617448</td>\n",
       "      <td>0.075293</td>\n",
       "      <td>14.060392</td>\n",
       "    </tr>\n",
       "    <tr>\n",
       "      <th>3</th>\n",
       "      <td>D</td>\n",
       "      <td>9394</td>\n",
       "      <td>9383.136</td>\n",
       "      <td>8208</td>\n",
       "      <td>10384</td>\n",
       "      <td>369.009081</td>\n",
       "      <td>0.115648</td>\n",
       "      <td>12.625080</td>\n",
       "    </tr>\n",
       "    <tr>\n",
       "      <th>2</th>\n",
       "      <td>C</td>\n",
       "      <td>7102</td>\n",
       "      <td>7101.744</td>\n",
       "      <td>6016</td>\n",
       "      <td>8128</td>\n",
       "      <td>329.144975</td>\n",
       "      <td>0.003605</td>\n",
       "      <td>15.291467</td>\n",
       "    </tr>\n",
       "    <tr>\n",
       "      <th>20</th>\n",
       "      <td>U</td>\n",
       "      <td>6648</td>\n",
       "      <td>6642.192</td>\n",
       "      <td>5648</td>\n",
       "      <td>7872</td>\n",
       "      <td>324.542255</td>\n",
       "      <td>0.087365</td>\n",
       "      <td>18.411552</td>\n",
       "    </tr>\n",
       "    <tr>\n",
       "      <th>12</th>\n",
       "      <td>M</td>\n",
       "      <td>6051</td>\n",
       "      <td>6056.832</td>\n",
       "      <td>4880</td>\n",
       "      <td>7136</td>\n",
       "      <td>298.471539</td>\n",
       "      <td>0.096381</td>\n",
       "      <td>19.352173</td>\n",
       "    </tr>\n",
       "    <tr>\n",
       "      <th>5</th>\n",
       "      <td>F</td>\n",
       "      <td>5612</td>\n",
       "      <td>5623.792</td>\n",
       "      <td>4416</td>\n",
       "      <td>6480</td>\n",
       "      <td>283.010934</td>\n",
       "      <td>0.210121</td>\n",
       "      <td>21.311475</td>\n",
       "    </tr>\n",
       "    <tr>\n",
       "      <th>22</th>\n",
       "      <td>W</td>\n",
       "      <td>4685</td>\n",
       "      <td>4681.456</td>\n",
       "      <td>3744</td>\n",
       "      <td>5488</td>\n",
       "      <td>266.397703</td>\n",
       "      <td>0.075646</td>\n",
       "      <td>20.085379</td>\n",
       "    </tr>\n",
       "    <tr>\n",
       "      <th>15</th>\n",
       "      <td>P</td>\n",
       "      <td>4672</td>\n",
       "      <td>4659.792</td>\n",
       "      <td>3888</td>\n",
       "      <td>5520</td>\n",
       "      <td>261.317196</td>\n",
       "      <td>0.261301</td>\n",
       "      <td>18.150685</td>\n",
       "    </tr>\n",
       "    <tr>\n",
       "      <th>1</th>\n",
       "      <td>B</td>\n",
       "      <td>4138</td>\n",
       "      <td>4148.320</td>\n",
       "      <td>3392</td>\n",
       "      <td>4896</td>\n",
       "      <td>244.193287</td>\n",
       "      <td>0.249396</td>\n",
       "      <td>18.318028</td>\n",
       "    </tr>\n",
       "    <tr>\n",
       "      <th>6</th>\n",
       "      <td>G</td>\n",
       "      <td>3925</td>\n",
       "      <td>3929.120</td>\n",
       "      <td>3088</td>\n",
       "      <td>4656</td>\n",
       "      <td>235.570375</td>\n",
       "      <td>0.104968</td>\n",
       "      <td>21.324841</td>\n",
       "    </tr>\n",
       "    <tr>\n",
       "      <th>24</th>\n",
       "      <td>Y</td>\n",
       "      <td>3693</td>\n",
       "      <td>3678.800</td>\n",
       "      <td>3056</td>\n",
       "      <td>4480</td>\n",
       "      <td>232.018413</td>\n",
       "      <td>0.384511</td>\n",
       "      <td>21.310588</td>\n",
       "    </tr>\n",
       "    <tr>\n",
       "      <th>21</th>\n",
       "      <td>V</td>\n",
       "      <td>2159</td>\n",
       "      <td>2159.104</td>\n",
       "      <td>1632</td>\n",
       "      <td>2704</td>\n",
       "      <td>173.606167</td>\n",
       "      <td>0.004817</td>\n",
       "      <td>25.243168</td>\n",
       "    </tr>\n",
       "    <tr>\n",
       "      <th>10</th>\n",
       "      <td>K</td>\n",
       "      <td>1243</td>\n",
       "      <td>1238.272</td>\n",
       "      <td>848</td>\n",
       "      <td>1680</td>\n",
       "      <td>140.618370</td>\n",
       "      <td>0.380370</td>\n",
       "      <td>35.156879</td>\n",
       "    </tr>\n",
       "    <tr>\n",
       "      <th>23</th>\n",
       "      <td>X</td>\n",
       "      <td>544</td>\n",
       "      <td>541.008</td>\n",
       "      <td>256</td>\n",
       "      <td>848</td>\n",
       "      <td>88.249872</td>\n",
       "      <td>0.550000</td>\n",
       "      <td>55.882353</td>\n",
       "    </tr>\n",
       "    <tr>\n",
       "      <th>9</th>\n",
       "      <td>J</td>\n",
       "      <td>520</td>\n",
       "      <td>516.800</td>\n",
       "      <td>240</td>\n",
       "      <td>816</td>\n",
       "      <td>85.587289</td>\n",
       "      <td>0.615385</td>\n",
       "      <td>56.923077</td>\n",
       "    </tr>\n",
       "    <tr>\n",
       "      <th>16</th>\n",
       "      <td>Q</td>\n",
       "      <td>319</td>\n",
       "      <td>317.536</td>\n",
       "      <td>80</td>\n",
       "      <td>528</td>\n",
       "      <td>68.926923</td>\n",
       "      <td>0.458934</td>\n",
       "      <td>74.921630</td>\n",
       "    </tr>\n",
       "    <tr>\n",
       "      <th>25</th>\n",
       "      <td>Z</td>\n",
       "      <td>124</td>\n",
       "      <td>125.600</td>\n",
       "      <td>16</td>\n",
       "      <td>288</td>\n",
       "      <td>43.915555</td>\n",
       "      <td>1.290323</td>\n",
       "      <td>132.258065</td>\n",
       "    </tr>\n",
       "  </tbody>\n",
       "</table>\n",
       "</div>"
      ],
      "text/plain": [
       "   Letter  Exact counts  Average estimate  Minimum estimate  Maximum estimate  \\\n",
       "4       E         30350         30339.008             28048             32384   \n",
       "19      T         23325         23311.424             21696             25200   \n",
       "0       A         18575         18576.128             16704             20288   \n",
       "14      O         17888         17899.568             16304             19552   \n",
       "13      N         16591         16562.704             14624             17984   \n",
       "8       I         16470         16482.400             14736             18160   \n",
       "18      S         14875         14872.976             13648             16352   \n",
       "17      R         13723         13718.736             11920             15552   \n",
       "7       H         13382         13396.720             12064             14640   \n",
       "11      L          9637          9644.256              8592             10992   \n",
       "3       D          9394          9383.136              8208             10384   \n",
       "2       C          7102          7101.744              6016              8128   \n",
       "20      U          6648          6642.192              5648              7872   \n",
       "12      M          6051          6056.832              4880              7136   \n",
       "5       F          5612          5623.792              4416              6480   \n",
       "22      W          4685          4681.456              3744              5488   \n",
       "15      P          4672          4659.792              3888              5520   \n",
       "1       B          4138          4148.320              3392              4896   \n",
       "6       G          3925          3929.120              3088              4656   \n",
       "24      Y          3693          3678.800              3056              4480   \n",
       "21      V          2159          2159.104              1632              2704   \n",
       "10      K          1243          1238.272               848              1680   \n",
       "23      X           544           541.008               256               848   \n",
       "9       J           520           516.800               240               816   \n",
       "16      Q           319           317.536                80               528   \n",
       "25      Z           124           125.600                16               288   \n",
       "\n",
       "    Standard deviation  Average relative error  Maximum relative error  \n",
       "4           669.756762                0.036217                7.584843  \n",
       "19          576.384473                0.058204                8.038585  \n",
       "0           519.791696                0.006073               10.072678  \n",
       "14          512.677120                0.064669                9.302326  \n",
       "13          491.601253                0.170550               11.855825  \n",
       "8           476.551210                0.075288               10.528233  \n",
       "18          457.596721                0.013607                9.929412  \n",
       "17          447.041191                0.031072               13.327990  \n",
       "7           451.821976                0.109999                9.849051  \n",
       "11          376.617448                0.075293               14.060392  \n",
       "3           369.009081                0.115648               12.625080  \n",
       "2           329.144975                0.003605               15.291467  \n",
       "20          324.542255                0.087365               18.411552  \n",
       "12          298.471539                0.096381               19.352173  \n",
       "5           283.010934                0.210121               21.311475  \n",
       "22          266.397703                0.075646               20.085379  \n",
       "15          261.317196                0.261301               18.150685  \n",
       "1           244.193287                0.249396               18.318028  \n",
       "6           235.570375                0.104968               21.324841  \n",
       "24          232.018413                0.384511               21.310588  \n",
       "21          173.606167                0.004817               25.243168  \n",
       "10          140.618370                0.380370               35.156879  \n",
       "23           88.249872                0.550000               55.882353  \n",
       "9            85.587289                0.615385               56.923077  \n",
       "16           68.926923                0.458934               74.921630  \n",
       "25           43.915555                1.290323              132.258065  "
      ]
     },
     "execution_count": 59,
     "metadata": {},
     "output_type": "execute_result"
    }
   ],
   "source": [
    "df_en = create_fix_table(fix_results, 'en')\n",
    "df_en = df_en.sort_values(by='Average estimate', ascending=False)\n",
    "df_en"
   ]
  },
  {
   "cell_type": "code",
   "execution_count": 60,
   "id": "97d8fc66-d15e-4d3e-85ba-eb29115289f1",
   "metadata": {},
   "outputs": [],
   "source": [
    "with open('./results/tables/fix_table_en.tex', 'w') as f:\n",
    "    df_en.to_latex(f, float_format=\"{:0.2f}\".format, index=False)"
   ]
  },
  {
   "cell_type": "code",
   "execution_count": 61,
   "id": "6fabc79e-9cc8-4866-a165-a11a17ed2f46",
   "metadata": {},
   "outputs": [
    {
     "data": {
      "text/html": [
       "<div>\n",
       "<style scoped>\n",
       "    .dataframe tbody tr th:only-of-type {\n",
       "        vertical-align: middle;\n",
       "    }\n",
       "\n",
       "    .dataframe tbody tr th {\n",
       "        vertical-align: top;\n",
       "    }\n",
       "\n",
       "    .dataframe thead th {\n",
       "        text-align: right;\n",
       "    }\n",
       "</style>\n",
       "<table border=\"1\" class=\"dataframe\">\n",
       "  <thead>\n",
       "    <tr style=\"text-align: right;\">\n",
       "      <th></th>\n",
       "      <th>Letter</th>\n",
       "      <th>Exact counts</th>\n",
       "      <th>Average estimate</th>\n",
       "      <th>Minimum estimate</th>\n",
       "      <th>Maximum estimate</th>\n",
       "      <th>Standard deviation</th>\n",
       "      <th>Average relative error</th>\n",
       "      <th>Maximum relative error</th>\n",
       "    </tr>\n",
       "  </thead>\n",
       "  <tbody>\n",
       "    <tr>\n",
       "      <th>4</th>\n",
       "      <td>E</td>\n",
       "      <td>45127</td>\n",
       "      <td>45115.648</td>\n",
       "      <td>42528</td>\n",
       "      <td>47760</td>\n",
       "      <td>817.521721</td>\n",
       "      <td>0.025156</td>\n",
       "      <td>5.834644</td>\n",
       "    </tr>\n",
       "    <tr>\n",
       "      <th>0</th>\n",
       "      <td>A</td>\n",
       "      <td>21969</td>\n",
       "      <td>21972.576</td>\n",
       "      <td>20208</td>\n",
       "      <td>23920</td>\n",
       "      <td>565.412519</td>\n",
       "      <td>0.016277</td>\n",
       "      <td>8.880696</td>\n",
       "    </tr>\n",
       "    <tr>\n",
       "      <th>18</th>\n",
       "      <td>S</td>\n",
       "      <td>21579</td>\n",
       "      <td>21535.968</td>\n",
       "      <td>19584</td>\n",
       "      <td>23216</td>\n",
       "      <td>582.638192</td>\n",
       "      <td>0.199416</td>\n",
       "      <td>9.245099</td>\n",
       "    </tr>\n",
       "    <tr>\n",
       "      <th>13</th>\n",
       "      <td>N</td>\n",
       "      <td>20058</td>\n",
       "      <td>20057.312</td>\n",
       "      <td>18352</td>\n",
       "      <td>21680</td>\n",
       "      <td>543.445665</td>\n",
       "      <td>0.003430</td>\n",
       "      <td>8.505335</td>\n",
       "    </tr>\n",
       "    <tr>\n",
       "      <th>8</th>\n",
       "      <td>I</td>\n",
       "      <td>19715</td>\n",
       "      <td>19711.728</td>\n",
       "      <td>17824</td>\n",
       "      <td>21520</td>\n",
       "      <td>551.992281</td>\n",
       "      <td>0.016597</td>\n",
       "      <td>9.591681</td>\n",
       "    </tr>\n",
       "    <tr>\n",
       "      <th>19</th>\n",
       "      <td>T</td>\n",
       "      <td>19480</td>\n",
       "      <td>19476.464</td>\n",
       "      <td>17760</td>\n",
       "      <td>21232</td>\n",
       "      <td>540.103968</td>\n",
       "      <td>0.018152</td>\n",
       "      <td>8.993840</td>\n",
       "    </tr>\n",
       "    <tr>\n",
       "      <th>17</th>\n",
       "      <td>R</td>\n",
       "      <td>17698</td>\n",
       "      <td>17677.824</td>\n",
       "      <td>16128</td>\n",
       "      <td>19136</td>\n",
       "      <td>495.108749</td>\n",
       "      <td>0.114002</td>\n",
       "      <td>8.871059</td>\n",
       "    </tr>\n",
       "    <tr>\n",
       "      <th>20</th>\n",
       "      <td>U</td>\n",
       "      <td>15944</td>\n",
       "      <td>15943.040</td>\n",
       "      <td>14128</td>\n",
       "      <td>17280</td>\n",
       "      <td>502.293084</td>\n",
       "      <td>0.006021</td>\n",
       "      <td>11.389865</td>\n",
       "    </tr>\n",
       "    <tr>\n",
       "      <th>11</th>\n",
       "      <td>L</td>\n",
       "      <td>15359</td>\n",
       "      <td>15359.184</td>\n",
       "      <td>13744</td>\n",
       "      <td>16768</td>\n",
       "      <td>492.043679</td>\n",
       "      <td>0.001198</td>\n",
       "      <td>10.515007</td>\n",
       "    </tr>\n",
       "    <tr>\n",
       "      <th>14</th>\n",
       "      <td>O</td>\n",
       "      <td>13799</td>\n",
       "      <td>13810.864</td>\n",
       "      <td>12176</td>\n",
       "      <td>15456</td>\n",
       "      <td>464.360952</td>\n",
       "      <td>0.085977</td>\n",
       "      <td>12.008117</td>\n",
       "    </tr>\n",
       "    <tr>\n",
       "      <th>3</th>\n",
       "      <td>D</td>\n",
       "      <td>10500</td>\n",
       "      <td>10501.376</td>\n",
       "      <td>9344</td>\n",
       "      <td>11840</td>\n",
       "      <td>396.214763</td>\n",
       "      <td>0.013105</td>\n",
       "      <td>12.761905</td>\n",
       "    </tr>\n",
       "    <tr>\n",
       "      <th>2</th>\n",
       "      <td>C</td>\n",
       "      <td>8964</td>\n",
       "      <td>8952.992</td>\n",
       "      <td>7856</td>\n",
       "      <td>10064</td>\n",
       "      <td>358.398627</td>\n",
       "      <td>0.122802</td>\n",
       "      <td>12.360553</td>\n",
       "    </tr>\n",
       "    <tr>\n",
       "      <th>15</th>\n",
       "      <td>P</td>\n",
       "      <td>7784</td>\n",
       "      <td>7800.576</td>\n",
       "      <td>6944</td>\n",
       "      <td>8880</td>\n",
       "      <td>344.578009</td>\n",
       "      <td>0.212950</td>\n",
       "      <td>14.080164</td>\n",
       "    </tr>\n",
       "    <tr>\n",
       "      <th>12</th>\n",
       "      <td>M</td>\n",
       "      <td>7507</td>\n",
       "      <td>7506.880</td>\n",
       "      <td>6336</td>\n",
       "      <td>8560</td>\n",
       "      <td>326.650727</td>\n",
       "      <td>0.001599</td>\n",
       "      <td>15.598774</td>\n",
       "    </tr>\n",
       "    <tr>\n",
       "      <th>21</th>\n",
       "      <td>V</td>\n",
       "      <td>3820</td>\n",
       "      <td>3808.560</td>\n",
       "      <td>3152</td>\n",
       "      <td>4480</td>\n",
       "      <td>236.054922</td>\n",
       "      <td>0.299476</td>\n",
       "      <td>17.486911</td>\n",
       "    </tr>\n",
       "    <tr>\n",
       "      <th>1</th>\n",
       "      <td>B</td>\n",
       "      <td>3133</td>\n",
       "      <td>3117.584</td>\n",
       "      <td>2544</td>\n",
       "      <td>3808</td>\n",
       "      <td>210.501997</td>\n",
       "      <td>0.492052</td>\n",
       "      <td>21.544845</td>\n",
       "    </tr>\n",
       "    <tr>\n",
       "      <th>5</th>\n",
       "      <td>F</td>\n",
       "      <td>2947</td>\n",
       "      <td>2948.896</td>\n",
       "      <td>2304</td>\n",
       "      <td>3712</td>\n",
       "      <td>209.570907</td>\n",
       "      <td>0.064337</td>\n",
       "      <td>25.958602</td>\n",
       "    </tr>\n",
       "    <tr>\n",
       "      <th>16</th>\n",
       "      <td>Q</td>\n",
       "      <td>2818</td>\n",
       "      <td>2823.216</td>\n",
       "      <td>2240</td>\n",
       "      <td>3440</td>\n",
       "      <td>202.947622</td>\n",
       "      <td>0.185096</td>\n",
       "      <td>22.072392</td>\n",
       "    </tr>\n",
       "    <tr>\n",
       "      <th>6</th>\n",
       "      <td>G</td>\n",
       "      <td>2423</td>\n",
       "      <td>2424.224</td>\n",
       "      <td>1792</td>\n",
       "      <td>3088</td>\n",
       "      <td>183.544343</td>\n",
       "      <td>0.050516</td>\n",
       "      <td>27.445316</td>\n",
       "    </tr>\n",
       "    <tr>\n",
       "      <th>7</th>\n",
       "      <td>H</td>\n",
       "      <td>2142</td>\n",
       "      <td>2138.368</td>\n",
       "      <td>1552</td>\n",
       "      <td>2672</td>\n",
       "      <td>181.102823</td>\n",
       "      <td>0.169561</td>\n",
       "      <td>27.544351</td>\n",
       "    </tr>\n",
       "    <tr>\n",
       "      <th>23</th>\n",
       "      <td>X</td>\n",
       "      <td>1351</td>\n",
       "      <td>1345.376</td>\n",
       "      <td>912</td>\n",
       "      <td>1888</td>\n",
       "      <td>145.546015</td>\n",
       "      <td>0.416284</td>\n",
       "      <td>39.748335</td>\n",
       "    </tr>\n",
       "    <tr>\n",
       "      <th>9</th>\n",
       "      <td>J</td>\n",
       "      <td>1039</td>\n",
       "      <td>1041.808</td>\n",
       "      <td>592</td>\n",
       "      <td>1488</td>\n",
       "      <td>131.772634</td>\n",
       "      <td>0.270260</td>\n",
       "      <td>43.214629</td>\n",
       "    </tr>\n",
       "    <tr>\n",
       "      <th>24</th>\n",
       "      <td>Y</td>\n",
       "      <td>702</td>\n",
       "      <td>708.416</td>\n",
       "      <td>400</td>\n",
       "      <td>1088</td>\n",
       "      <td>101.601668</td>\n",
       "      <td>0.913960</td>\n",
       "      <td>54.985755</td>\n",
       "    </tr>\n",
       "    <tr>\n",
       "      <th>25</th>\n",
       "      <td>Z</td>\n",
       "      <td>441</td>\n",
       "      <td>439.264</td>\n",
       "      <td>224</td>\n",
       "      <td>704</td>\n",
       "      <td>79.894144</td>\n",
       "      <td>0.393651</td>\n",
       "      <td>59.637188</td>\n",
       "    </tr>\n",
       "    <tr>\n",
       "      <th>22</th>\n",
       "      <td>W</td>\n",
       "      <td>104</td>\n",
       "      <td>105.952</td>\n",
       "      <td>0</td>\n",
       "      <td>240</td>\n",
       "      <td>38.616443</td>\n",
       "      <td>1.876923</td>\n",
       "      <td>130.769231</td>\n",
       "    </tr>\n",
       "    <tr>\n",
       "      <th>10</th>\n",
       "      <td>K</td>\n",
       "      <td>81</td>\n",
       "      <td>80.096</td>\n",
       "      <td>0</td>\n",
       "      <td>208</td>\n",
       "      <td>35.068715</td>\n",
       "      <td>1.116049</td>\n",
       "      <td>156.790123</td>\n",
       "    </tr>\n",
       "  </tbody>\n",
       "</table>\n",
       "</div>"
      ],
      "text/plain": [
       "   Letter  Exact counts  Average estimate  Minimum estimate  Maximum estimate  \\\n",
       "4       E         45127         45115.648             42528             47760   \n",
       "0       A         21969         21972.576             20208             23920   \n",
       "18      S         21579         21535.968             19584             23216   \n",
       "13      N         20058         20057.312             18352             21680   \n",
       "8       I         19715         19711.728             17824             21520   \n",
       "19      T         19480         19476.464             17760             21232   \n",
       "17      R         17698         17677.824             16128             19136   \n",
       "20      U         15944         15943.040             14128             17280   \n",
       "11      L         15359         15359.184             13744             16768   \n",
       "14      O         13799         13810.864             12176             15456   \n",
       "3       D         10500         10501.376              9344             11840   \n",
       "2       C          8964          8952.992              7856             10064   \n",
       "15      P          7784          7800.576              6944              8880   \n",
       "12      M          7507          7506.880              6336              8560   \n",
       "21      V          3820          3808.560              3152              4480   \n",
       "1       B          3133          3117.584              2544              3808   \n",
       "5       F          2947          2948.896              2304              3712   \n",
       "16      Q          2818          2823.216              2240              3440   \n",
       "6       G          2423          2424.224              1792              3088   \n",
       "7       H          2142          2138.368              1552              2672   \n",
       "23      X          1351          1345.376               912              1888   \n",
       "9       J          1039          1041.808               592              1488   \n",
       "24      Y           702           708.416               400              1088   \n",
       "25      Z           441           439.264               224               704   \n",
       "22      W           104           105.952                 0               240   \n",
       "10      K            81            80.096                 0               208   \n",
       "\n",
       "    Standard deviation  Average relative error  Maximum relative error  \n",
       "4           817.521721                0.025156                5.834644  \n",
       "0           565.412519                0.016277                8.880696  \n",
       "18          582.638192                0.199416                9.245099  \n",
       "13          543.445665                0.003430                8.505335  \n",
       "8           551.992281                0.016597                9.591681  \n",
       "19          540.103968                0.018152                8.993840  \n",
       "17          495.108749                0.114002                8.871059  \n",
       "20          502.293084                0.006021               11.389865  \n",
       "11          492.043679                0.001198               10.515007  \n",
       "14          464.360952                0.085977               12.008117  \n",
       "3           396.214763                0.013105               12.761905  \n",
       "2           358.398627                0.122802               12.360553  \n",
       "15          344.578009                0.212950               14.080164  \n",
       "12          326.650727                0.001599               15.598774  \n",
       "21          236.054922                0.299476               17.486911  \n",
       "1           210.501997                0.492052               21.544845  \n",
       "5           209.570907                0.064337               25.958602  \n",
       "16          202.947622                0.185096               22.072392  \n",
       "6           183.544343                0.050516               27.445316  \n",
       "7           181.102823                0.169561               27.544351  \n",
       "23          145.546015                0.416284               39.748335  \n",
       "9           131.772634                0.270260               43.214629  \n",
       "24          101.601668                0.913960               54.985755  \n",
       "25           79.894144                0.393651               59.637188  \n",
       "22           38.616443                1.876923              130.769231  \n",
       "10           35.068715                1.116049              156.790123  "
      ]
     },
     "execution_count": 61,
     "metadata": {},
     "output_type": "execute_result"
    }
   ],
   "source": [
    "df_fr = create_fix_table(fix_results, 'fr')\n",
    "df_fr = df_fr.sort_values(by='Average estimate', ascending=False)\n",
    "df_fr"
   ]
  },
  {
   "cell_type": "code",
   "execution_count": 62,
   "id": "ad2ff028-bcae-4b68-afd9-c87cfe05234c",
   "metadata": {},
   "outputs": [],
   "source": [
    "with open('./results/tables/fix_table_fr.tex', 'w') as f:\n",
    "    df_fr.to_latex(f, float_format=\"{:0.2f}\".format, index=False)"
   ]
  },
  {
   "cell_type": "markdown",
   "id": "3de8f433-3f15-4ae6-bf5b-f52917a25d66",
   "metadata": {
    "tags": []
   },
   "source": [
    "### Analyze top and bottom leters"
   ]
  },
  {
   "cell_type": "code",
   "execution_count": 63,
   "id": "065cad53-9e2f-4c9d-8c60-f0f997b98536",
   "metadata": {
    "tags": []
   },
   "outputs": [],
   "source": [
    "fix_estim = {}\n",
    "for lang in ('pt', 'en', 'fr'):\n",
    "    fix_estim[lang] = fix_results[lang][:,0]*16"
   ]
  },
  {
   "cell_type": "code",
   "execution_count": 64,
   "id": "463deb7c-1de6-4e77-9ced-58ae2466ba15",
   "metadata": {},
   "outputs": [],
   "source": [
    "def print_max_freqs(results, lang, n=5, compare=None):\n",
    "    max_idxs = (-results[lang]).ravel().argsort()[:n]\n",
    "    for idx in max_idxs:\n",
    "        cts = int(results[lang][idx])\n",
    "        freq = cts/n_letters[lang]\n",
    "        print(f'{letter_labels[idx]} {cts:6}  {freq:.4f}', end='')\n",
    "        if compare:\n",
    "            print(f'  real: {int(det_results[lang][idx])}')\n",
    "        else:\n",
    "            print()\n",
    "        \n",
    "def print_min_freqs(results, lang, n=5, compare=None):\n",
    "    min_idxs = (results[lang]).ravel().argsort()[:n]\n",
    "    for idx in min_idxs:\n",
    "        cts = int(results[lang][idx])\n",
    "        freq = cts/n_letters[lang]\n",
    "        print(f'{letter_labels[idx]} {cts:6}  {freq:.4f}', end='')\n",
    "        if compare:\n",
    "            print(f'  real: {int(det_results[lang][idx])}')\n",
    "        else:\n",
    "            print()"
   ]
  },
  {
   "cell_type": "code",
   "execution_count": 65,
   "id": "4fd68647-f794-4089-a152-0005082506e1",
   "metadata": {},
   "outputs": [
    {
     "name": "stdout",
     "output_type": "stream",
     "text": [
      "A  37008  0.1330  real: 37584\n",
      "E  36320  0.1305  real: 36029\n",
      "O  28912  0.1039  real: 28623\n",
      "S  21536  0.0774  real: 22100\n",
      "R  17664  0.0635  real: 18555\n"
     ]
    }
   ],
   "source": [
    "print_max_freqs(fix_estim, 'pt', compare='det')"
   ]
  },
  {
   "cell_type": "code",
   "execution_count": 66,
   "id": "6e83c0a4-a7b4-49d6-b929-24dbe4b59ca5",
   "metadata": {},
   "outputs": [
    {
     "name": "stdout",
     "output_type": "stream",
     "text": [
      "W     64  0.0002  real: 100\n",
      "K     64  0.0002  real: 73\n",
      "Y    224  0.0008  real: 214\n",
      "X    560  0.0020  real: 813\n",
      "J    976  0.0035  real: 849\n"
     ]
    }
   ],
   "source": [
    "print_min_freqs(fix_estim, 'pt', n=5, compare='det')"
   ]
  },
  {
   "cell_type": "code",
   "execution_count": 67,
   "id": "52bc4a50-db75-4e5e-991b-fe4b0c39dc95",
   "metadata": {},
   "outputs": [
    {
     "data": {
      "image/png": "[encoded data removed]",
      "text/plain": [
       "<Figure size 432x288 with 1 Axes>"
      ]
     },
     "metadata": {
      "needs_background": "light"
     },
     "output_type": "display_data"
    }
   ],
   "source": [
    "fig, ax = plot_rel_freqs(fix_estim, 'pt', compare='det')\n",
    "ax.set_yscale('log')\n",
    "fig.savefig('./results/plots/05_fix_estim_compar_pt', dpi=300)"
   ]
  },
  {
   "cell_type": "code",
   "execution_count": 68,
   "id": "b6856df2-8cdf-4827-bf3e-79220c8a55a6",
   "metadata": {},
   "outputs": [
    {
     "name": "stdout",
     "output_type": "stream",
     "text": [
      "E  31264  0.1327  real: 30350\n",
      "T  23056  0.0978  real: 23325\n",
      "A  18400  0.0781  real: 18575\n",
      "O  17136  0.0727  real: 17888\n",
      "I  16464  0.0699  real: 16470\n",
      "N  16224  0.0688  real: 16591\n"
     ]
    }
   ],
   "source": [
    "print_max_freqs(fix_estim, 'en', n=6, compare='det')"
   ]
  },
  {
   "cell_type": "code",
   "execution_count": 69,
   "id": "ba6ecb35-60b4-4391-b2ad-66bc2a5d99e3",
   "metadata": {},
   "outputs": [
    {
     "name": "stdout",
     "output_type": "stream",
     "text": [
      "Z    176  0.0007  real: 124\n",
      "Q    320  0.0014  real: 319\n",
      "J    464  0.0020  real: 520\n",
      "X    480  0.0020  real: 544\n",
      "K   1536  0.0065  real: 1243\n"
     ]
    }
   ],
   "source": [
    "print_min_freqs(fix_estim, 'en', n=5, compare='det')"
   ]
  },
  {
   "cell_type": "code",
   "execution_count": 70,
   "id": "328a13ce-4755-4f61-b37f-52472f2cdadd",
   "metadata": {},
   "outputs": [
    {
     "data": {
      "image/png": "[encoded data removed]",
      "text/plain": [
       "<Figure size 432x288 with 1 Axes>"
      ]
     },
     "metadata": {
      "needs_background": "light"
     },
     "output_type": "display_data"
    }
   ],
   "source": [
    "fig, ax = plot_rel_freqs(fix_estim, 'en', compare='det')\n",
    "ax.set_yscale('log')\n",
    "fig.savefig('./results/plots/05_fix_estim_compar_en', dpi=300)"
   ]
  },
  {
   "cell_type": "code",
   "execution_count": 71,
   "id": "a6f01667-6ae8-4d9f-a3d1-4e29cc019d59",
   "metadata": {},
   "outputs": [
    {
     "name": "stdout",
     "output_type": "stream",
     "text": [
      "E  46736  0.1754  real: 45127\n",
      "A  22544  0.0846  real: 21969\n",
      "S  21488  0.0806  real: 21579\n",
      "I  19632  0.0737  real: 19715\n",
      "N  19440  0.0729  real: 20058\n"
     ]
    }
   ],
   "source": [
    "print_max_freqs(fix_estim, 'fr', n=5, compare='det')"
   ]
  },
  {
   "cell_type": "code",
   "execution_count": 72,
   "id": "3769a1c7-ac32-4c89-b1b2-163ed5f16a7c",
   "metadata": {},
   "outputs": [
    {
     "name": "stdout",
     "output_type": "stream",
     "text": [
      "K     80  0.0003  real: 81\n",
      "W    144  0.0005  real: 104\n",
      "Z    336  0.0013  real: 441\n",
      "Y    576  0.0022  real: 702\n",
      "J   1120  0.0042  real: 1039\n"
     ]
    }
   ],
   "source": [
    "print_min_freqs(fix_estim, 'fr', n=5, compare='det')"
   ]
  },
  {
   "cell_type": "code",
   "execution_count": 73,
   "id": "2116b798-697a-4947-8704-c5827d6a386a",
   "metadata": {},
   "outputs": [
    {
     "data": {
      "image/png": "[encoded data removed]",
      "text/plain": [
       "<Figure size 432x288 with 1 Axes>"
      ]
     },
     "metadata": {
      "needs_background": "light"
     },
     "output_type": "display_data"
    }
   ],
   "source": [
    "fig, ax = plot_rel_freqs(fix_estim, 'fr', compare='det')\n",
    "ax.set_yscale('log')\n",
    "fig.savefig('./results/plots/05_fix_estim_compar_fr', dpi=300)"
   ]
  },
  {
   "cell_type": "markdown",
   "id": "8502eeec-b7db-420a-b59d-6f415d3bada0",
   "metadata": {},
   "source": [
    "### Compare counter sizes"
   ]
  },
  {
   "cell_type": "code",
   "execution_count": 74,
   "id": "f3d9d782-ae58-43a7-b2b2-241f263a404c",
   "metadata": {},
   "outputs": [
    {
     "data": {
      "text/plain": [
       "(array([37584,  3183, 11270, 14444, 36029,  2666,  3250,  3474, 16980,\n",
       "          849,    73,  9073, 12923, 14216, 28623,  8339,  3137, 18555,\n",
       "        22100, 13684, 11252,  4301,   100,   813,   214,  1107]),\n",
       " dtype('int64'))"
      ]
     },
     "execution_count": 74,
     "metadata": {},
     "output_type": "execute_result"
    }
   ],
   "source": [
    "d = det_results['pt'].ravel()\n",
    "d, d.dtype"
   ]
  },
  {
   "cell_type": "code",
   "execution_count": 75,
   "id": "1d18b239-b1f3-4761-b19c-7a4b40e7c259",
   "metadata": {},
   "outputs": [
    {
     "data": {
      "text/plain": [
       "array([37584,  3183, 11270, 14444, 36029,  2666,  3250,  3474, 16980,\n",
       "         849,    73,  9073, 12923, 14216, 28623,  8339,  3137, 18555,\n",
       "       22100, 13684, 11252,  4301,   100,   813,   214,  1107],\n",
       "      dtype=uint16)"
      ]
     },
     "execution_count": 75,
     "metadata": {},
     "output_type": "execute_result"
    }
   ],
   "source": [
    "arr1 = d.astype('uint16')\n",
    "arr1"
   ]
  },
  {
   "cell_type": "code",
   "execution_count": 76,
   "id": "a835cbef-9b82-44ab-89d9-0e730aff336a",
   "metadata": {},
   "outputs": [
    {
     "data": {
      "text/plain": [
       "(array([2313,  200,  735,  896, 2270,  179,  205,  220, 1093,   61,    4,\n",
       "         567,  827,  859, 1807,  513,  198, 1104, 1346,  858,  642,  260,\n",
       "           4,   35,   14,   80]),\n",
       " dtype('int64'))"
      ]
     },
     "execution_count": 76,
     "metadata": {},
     "output_type": "execute_result"
    }
   ],
   "source": [
    "f = fix_results['pt'][:,0].ravel()\n",
    "f, f.dtype"
   ]
  },
  {
   "cell_type": "code",
   "execution_count": 77,
   "id": "454d05aa-da39-492b-93ad-55ca61ae137a",
   "metadata": {},
   "outputs": [
    {
     "data": {
      "text/plain": [
       "array([2313,  200,  735,  896, 2270,  179,  205,  220, 1093,   61,    4,\n",
       "        567,  827,  859, 1807,  513,  198, 1104, 1346,  858,  642,  260,\n",
       "          4,   35,   14,   80], dtype=uint16)"
      ]
     },
     "execution_count": 77,
     "metadata": {},
     "output_type": "execute_result"
    }
   ],
   "source": [
    "arr2 = f.astype('uint16')\n",
    "arr2"
   ]
  },
  {
   "cell_type": "code",
   "execution_count": 78,
   "id": "04ceb1d0-5195-4c26-8d20-25126b00b479",
   "metadata": {},
   "outputs": [
    {
     "data": {
      "text/plain": [
       "52"
      ]
     },
     "execution_count": 78,
     "metadata": {},
     "output_type": "execute_result"
    }
   ],
   "source": [
    "arr1.nbytes"
   ]
  },
  {
   "cell_type": "code",
   "execution_count": 79,
   "id": "89afdf09-3b89-4fc0-90e0-dd89bd254d71",
   "metadata": {},
   "outputs": [
    {
     "data": {
      "text/plain": [
       "52"
      ]
     },
     "execution_count": 79,
     "metadata": {},
     "output_type": "execute_result"
    }
   ],
   "source": [
    "arr2.nbytes"
   ]
  },
  {
   "cell_type": "markdown",
   "id": "29984345-4a66-4e13-98c8-9a010d30e233",
   "metadata": {
    "tags": []
   },
   "source": [
    "## Morris counter"
   ]
  },
  {
   "cell_type": "code",
   "execution_count": 80,
   "id": "16aef37b-fd77-4ead-935f-2fd958a164e7",
   "metadata": {
    "tags": []
   },
   "outputs": [],
   "source": [
    "with open('./results/dec_prob_counter_x1000.json', 'r') as f: \n",
    "    dec_prob_results = json.load(f)  \n",
    "dec_results = dict_to_np(dec_prob_results)"
   ]
  },
  {
   "cell_type": "code",
   "execution_count": 81,
   "id": "927469af-a68f-48ff-9f69-0c5b8b882d42",
   "metadata": {},
   "outputs": [],
   "source": [
    "with open('./results/dec_prob_counter_x10000.json', 'r') as f: \n",
    "    dec_prob_results = json.load(f)    \n",
    "dec_results_10000 = dict_to_np(dec_prob_results)"
   ]
  },
  {
   "cell_type": "code",
   "execution_count": 82,
   "id": "aae02c58-caac-4744-8c6f-6cd32bb69e19",
   "metadata": {},
   "outputs": [],
   "source": [
    "with open('./results/dec_prob_counter_x100.json', 'r') as f: \n",
    "    dec_prob_results = json.load(f)    \n",
    "dec_results_100 = dict_to_np(dec_prob_results)"
   ]
  },
  {
   "cell_type": "markdown",
   "id": "6061c4ed-e501-43c8-a25f-a89f687ce95c",
   "metadata": {
    "tags": []
   },
   "source": [
    "### Distributions"
   ]
  },
  {
   "cell_type": "code",
   "execution_count": 83,
   "id": "9b95492e-271c-4bb6-9221-7c1101d6d8e6",
   "metadata": {},
   "outputs": [
    {
     "data": {
      "text/plain": [
       "(1000,)"
      ]
     },
     "execution_count": 83,
     "metadata": {},
     "output_type": "execute_result"
    }
   ],
   "source": [
    "sample = dec_results['pt'][0,:]  # counts of A in PT\n",
    "sample.shape"
   ]
  },
  {
   "cell_type": "code",
   "execution_count": 84,
   "id": "cea65da6-001b-4e38-b26c-f866fc235338",
   "metadata": {},
   "outputs": [
    {
     "data": {
      "text/plain": [
       "(16, 22)"
      ]
     },
     "execution_count": 84,
     "metadata": {},
     "output_type": "execute_result"
    }
   ],
   "source": [
    "min(sample), max(sample)"
   ]
  },
  {
   "cell_type": "code",
   "execution_count": 85,
   "id": "4b29f85b-0acc-444c-954e-7bfa6ff30831",
   "metadata": {},
   "outputs": [
    {
     "data": {
      "text/plain": [
       "(18.361, 0.9750276919144399)"
      ]
     },
     "execution_count": 85,
     "metadata": {},
     "output_type": "execute_result"
    }
   ],
   "source": [
    "np.mean(sample), np.std(sample)"
   ]
  },
  {
   "cell_type": "code",
   "execution_count": 86,
   "id": "29a308d3-ebb9-4b12-a36b-46dd7be10781",
   "metadata": {},
   "outputs": [
    {
     "data": {
      "text/plain": [
       "(10000,)"
      ]
     },
     "execution_count": 86,
     "metadata": {},
     "output_type": "execute_result"
    }
   ],
   "source": [
    "sample_10000 = dec_results_10000['pt'][0,:]  # counts of A in PT\n",
    "sample_10000.shape"
   ]
  },
  {
   "cell_type": "code",
   "execution_count": 87,
   "id": "724f3db6-9bca-46fd-b584-b08f160ba7d7",
   "metadata": {},
   "outputs": [
    {
     "data": {
      "text/plain": [
       "(15, 22)"
      ]
     },
     "execution_count": 87,
     "metadata": {},
     "output_type": "execute_result"
    }
   ],
   "source": [
    "min(sample_10000), max(sample_10000)"
   ]
  },
  {
   "cell_type": "code",
   "execution_count": 88,
   "id": "b31693fd-89ac-45ba-9d86-26444925dd8e",
   "metadata": {},
   "outputs": [
    {
     "data": {
      "text/plain": [
       "(18.3565, 0.9668545650717072)"
      ]
     },
     "execution_count": 88,
     "metadata": {},
     "output_type": "execute_result"
    }
   ],
   "source": [
    "np.mean(sample_10000), np.std(sample_10000)"
   ]
  },
  {
   "cell_type": "code",
   "execution_count": 89,
   "id": "27c4365f-dd9c-4085-8435-a35963f2c639",
   "metadata": {},
   "outputs": [
    {
     "data": {
      "text/plain": [
       "(100,)"
      ]
     },
     "execution_count": 89,
     "metadata": {},
     "output_type": "execute_result"
    }
   ],
   "source": [
    "sample_100 = dec_results_100['pt'][0,:]\n",
    "sample_100.shape"
   ]
  },
  {
   "cell_type": "code",
   "execution_count": 90,
   "id": "1a96c8b8-5d64-408e-8e9a-24d377872234",
   "metadata": {},
   "outputs": [
    {
     "data": {
      "image/png": "[encoded data removed]",
      "text/plain": [
       "<Figure size 576x288 with 3 Axes>"
      ]
     },
     "metadata": {
      "needs_background": "light"
     },
     "output_type": "display_data"
    }
   ],
   "source": [
    "fig, axes = plt.subplots(1, 3, figsize=(8, 4))\n",
    "fig.suptitle('Letter: A, Language: Portuguese')\n",
    "axes[0].set_ylabel('Absolute frequency')\n",
    "axes[0].hist(sample_100, bins=6)\n",
    "axes[0].set_title('100 repetitions')\n",
    "axes[1].hist(sample, bins=6)\n",
    "axes[1].set_title('1k repetitions')\n",
    "axes[2].hist(sample_10000, bins=8);\n",
    "axes[2].set_title('10k repetitions')\n",
    "fig.supxlabel('Counter result');\n",
    "\n",
    "fig.tight_layout()\n",
    "\n",
    "fig.savefig('./results/plots/06_dec_dist_A', dpi=300)"
   ]
  },
  {
   "cell_type": "code",
   "execution_count": 91,
   "id": "ce333f13-682c-4f1e-91e5-f855decafc20",
   "metadata": {},
   "outputs": [],
   "source": [
    "idx_K = ord('K')-ord('A')\n",
    "sample2 = dec_results['pt'][idx_K,:]  # counts of K in PT"
   ]
  },
  {
   "cell_type": "code",
   "execution_count": 92,
   "id": "63a3cd58-842e-4daf-acb9-22e4769e3a04",
   "metadata": {},
   "outputs": [
    {
     "data": {
      "text/plain": [
       "(4, 10)"
      ]
     },
     "execution_count": 92,
     "metadata": {},
     "output_type": "execute_result"
    }
   ],
   "source": [
    "min(sample2), max(sample2)"
   ]
  },
  {
   "cell_type": "code",
   "execution_count": 93,
   "id": "39a4f0f4-db15-4493-b015-3ef84dfcaa4f",
   "metadata": {},
   "outputs": [
    {
     "data": {
      "text/plain": [
       "(7.04, 0.9941830817309254)"
      ]
     },
     "execution_count": 93,
     "metadata": {},
     "output_type": "execute_result"
    }
   ],
   "source": [
    "np.mean(sample2), np.std(sample2)"
   ]
  },
  {
   "cell_type": "code",
   "execution_count": 94,
   "id": "bc6339a0-cc40-41dd-85a1-8cdd3fd9f8ed",
   "metadata": {},
   "outputs": [],
   "source": [
    "sample2_10000 = dec_results_10000['pt'][idx_K,:]  # counts of K in PT"
   ]
  },
  {
   "cell_type": "code",
   "execution_count": 95,
   "id": "9192eb16-70a5-41e2-93e7-2490c3b5bebe",
   "metadata": {},
   "outputs": [
    {
     "data": {
      "text/plain": [
       "(4, 11)"
      ]
     },
     "execution_count": 95,
     "metadata": {},
     "output_type": "execute_result"
    }
   ],
   "source": [
    "min(sample2_10000), max(sample2_10000)"
   ]
  },
  {
   "cell_type": "code",
   "execution_count": 96,
   "id": "13f701e5-cda1-4148-969a-a747e94594f0",
   "metadata": {},
   "outputs": [
    {
     "data": {
      "text/plain": [
       "(7.0186, 0.9469181802035486)"
      ]
     },
     "execution_count": 96,
     "metadata": {},
     "output_type": "execute_result"
    }
   ],
   "source": [
    "np.mean(sample2_10000), np.std(sample2_10000)"
   ]
  },
  {
   "cell_type": "code",
   "execution_count": 97,
   "id": "eed65bea-e23d-4ad1-997d-b44bf1711286",
   "metadata": {},
   "outputs": [
    {
     "data": {
      "text/plain": [
       "(100,)"
      ]
     },
     "execution_count": 97,
     "metadata": {},
     "output_type": "execute_result"
    }
   ],
   "source": [
    "sample2_100 = dec_results_100['pt'][idx_K,:]\n",
    "sample2_100.shape"
   ]
  },
  {
   "cell_type": "code",
   "execution_count": 98,
   "id": "2d927244-837e-46e1-a7bd-ccc2bdfe8fc8",
   "metadata": {},
   "outputs": [
    {
     "data": {
      "image/png": "[encoded data removed]",
      "text/plain": [
       "<Figure size 576x288 with 3 Axes>"
      ]
     },
     "metadata": {
      "needs_background": "light"
     },
     "output_type": "display_data"
    }
   ],
   "source": [
    "fig, axes = plt.subplots(1, 3, figsize=(8, 4))\n",
    "fig.suptitle('Letter: K, Language: Portuguese')\n",
    "axes[0].set_ylabel('Absolute frequency')\n",
    "axes[0].hist(sample2_100, bins=6)\n",
    "axes[0].set_title('100 repetitions')\n",
    "axes[1].hist(sample2, bins=7)\n",
    "axes[1].set_title('1k repetitions')\n",
    "axes[2].hist(sample2_10000, bins=8);\n",
    "axes[2].set_title('10k repetitions')\n",
    "fig.supxlabel('Counter result');\n",
    "\n",
    "fig.tight_layout()\n",
    "\n",
    "fig.savefig('./results/plots/06_dec_dist_K', dpi=300)"
   ]
  },
  {
   "cell_type": "markdown",
   "id": "cde5800c-1ccd-4357-be51-132f84576222",
   "metadata": {},
   "source": [
    "### Expected values"
   ]
  },
  {
   "cell_type": "code",
   "execution_count": 99,
   "id": "c0156d9d-23a4-4a32-86b5-ebd46068e0ef",
   "metadata": {},
   "outputs": [],
   "source": [
    "dec_expect = {}\n",
    "for lang in ('pt', 'en', 'fr'):\n",
    "    dec_expect[lang] = dec_results[lang].mean(axis=1)"
   ]
  },
  {
   "cell_type": "code",
   "execution_count": 100,
   "id": "c2a273e0-66fb-4675-a597-a22bf2e8eb51",
   "metadata": {},
   "outputs": [
    {
     "data": {
      "text/plain": [
       "(26,)"
      ]
     },
     "execution_count": 100,
     "metadata": {},
     "output_type": "execute_result"
    }
   ],
   "source": [
    "dec_expect['pt'].shape"
   ]
  },
  {
   "cell_type": "code",
   "execution_count": 101,
   "id": "723ac0c7-0a7b-4c36-b62c-a00bd09b7a2c",
   "metadata": {},
   "outputs": [],
   "source": [
    "teo_dec_expect = {}\n",
    "sqrt3 = np.sqrt(3)\n",
    "for lang in ('pt', 'en', 'fr'):\n",
    "    teo_dec_expect[lang] = np.log(det_results[lang]*(sqrt3-1)+sqrt3-1)/np.log(sqrt3)"
   ]
  },
  {
   "cell_type": "code",
   "execution_count": 102,
   "id": "6b077896-32ad-4b63-b1ab-c7396a059468",
   "metadata": {},
   "outputs": [
    {
     "data": {
      "image/png": "[encoded data removed]",
      "text/plain": [
       "<Figure size 432x288 with 1 Axes>"
      ]
     },
     "metadata": {
      "needs_background": "light"
     },
     "output_type": "display_data"
    }
   ],
   "source": [
    "fig, ax = plot_expected_values(dec_expect, teo_dec_expect, 'pt')\n",
    "ax.set_yscale('linear')\n",
    "ax.set_ylabel('Expected value');\n",
    "fig.savefig('./results/plots/07_dec_expected_pt')"
   ]
  },
  {
   "cell_type": "code",
   "execution_count": 103,
   "id": "1bd9a955-d3cb-4410-91d3-2583d96fbcba",
   "metadata": {},
   "outputs": [
    {
     "data": {
      "image/png": "[encoded data removed]",
      "text/plain": [
       "<Figure size 432x288 with 1 Axes>"
      ]
     },
     "metadata": {
      "needs_background": "light"
     },
     "output_type": "display_data"
    }
   ],
   "source": [
    "fig, ax = plot_expected_values(dec_expect, teo_dec_expect, 'en')\n",
    "ax.set_yscale('linear')\n",
    "ax.set_ylabel('Expected value');\n",
    "fig.savefig('./results/plots/07_dec_expected_en')"
   ]
  },
  {
   "cell_type": "code",
   "execution_count": 104,
   "id": "c3c7b93a-7c33-4ec5-ae9e-a75f5c7c2e64",
   "metadata": {},
   "outputs": [
    {
     "data": {
      "image/png": "[encoded data removed]",
      "text/plain": [
       "<Figure size 432x288 with 1 Axes>"
      ]
     },
     "metadata": {
      "needs_background": "light"
     },
     "output_type": "display_data"
    }
   ],
   "source": [
    "fig, ax = plot_expected_values(dec_expect, teo_dec_expect, 'fr')\n",
    "ax.set_yscale('linear')\n",
    "ax.set_ylabel('Expected value');\n",
    "fig.savefig('./results/plots/07_dec_expected_fr')"
   ]
  },
  {
   "cell_type": "markdown",
   "id": "6386c4df-d7f5-441f-a1f2-e6105178568d",
   "metadata": {
    "tags": []
   },
   "source": [
    "### Analyze top and bottom leters"
   ]
  },
  {
   "cell_type": "code",
   "execution_count": 105,
   "id": "adb98768-0185-4ebb-9020-121ae91446f0",
   "metadata": {
    "tags": []
   },
   "outputs": [],
   "source": [
    "dec_estim = {}\n",
    "for lang in ('pt', 'en', 'fr'):\n",
    "    dec_estim[lang] = (sqrt3**dec_results[lang][:,0]-sqrt3)/(sqrt3-1)"
   ]
  },
  {
   "cell_type": "code",
   "execution_count": 106,
   "id": "50f69da7-cb1a-4e19-94b2-882b150fb5e7",
   "metadata": {},
   "outputs": [
    {
     "name": "stdout",
     "output_type": "stream",
     "text": [
      "A  46568  0.1674  real: 37584\n",
      "S  46568  0.1674  real: 22100\n",
      "O  46568  0.1674  real: 28623\n",
      "E  46568  0.1674  real: 36029\n",
      "R  15521  0.0558  real: 18555\n",
      "N  15521  0.0558  real: 14216\n",
      "I  15521  0.0558  real: 16980\n",
      "M  15521  0.0558  real: 12923\n",
      "L   8960  0.0322  real: 9073\n"
     ]
    }
   ],
   "source": [
    "print_max_freqs(dec_estim, 'pt', n=9, compare='det')"
   ]
  },
  {
   "cell_type": "code",
   "execution_count": 107,
   "id": "1ec926cd-c96c-421b-af35-3cd1bdef152f",
   "metadata": {},
   "outputs": [
    {
     "name": "stdout",
     "output_type": "stream",
     "text": [
      "W     61  0.0002  real: 100\n",
      "K    189  0.0007  real: 73\n",
      "Y    329  0.0012  real: 214\n",
      "X    572  0.0021  real: 813\n",
      "Z    572  0.0021  real: 1107\n",
      "Q    993  0.0036  real: 3137\n",
      "V    993  0.0036  real: 4301\n",
      "J   1722  0.0062  real: 849\n"
     ]
    }
   ],
   "source": [
    "print_min_freqs(dec_estim, 'pt', n=8, compare='det')"
   ]
  },
  {
   "cell_type": "code",
   "execution_count": 108,
   "id": "94dc6179-f4be-440e-aa68-f0c1d176b9ae",
   "metadata": {},
   "outputs": [
    {
     "data": {
      "image/png": "[encoded data removed]",
      "text/plain": [
       "<Figure size 432x288 with 1 Axes>"
      ]
     },
     "metadata": {
      "needs_background": "light"
     },
     "output_type": "display_data"
    }
   ],
   "source": [
    "fig, ax = plot_rel_freqs(dec_estim, 'pt', compare='det')\n",
    "ax.set_yscale('log')\n",
    "fig.savefig('./results/plots/08_dec_estim_compar_pt', dpi=300)"
   ]
  },
  {
   "cell_type": "code",
   "execution_count": 109,
   "id": "e0f0f534-3b32-47c9-8c4c-dbc4c798a025",
   "metadata": {},
   "outputs": [
    {
     "name": "stdout",
     "output_type": "stream",
     "text": [
      "O  46568  0.1976  real: 17888\n",
      "A  26885  0.1141  real: 18575\n",
      "E  26885  0.1141  real: 30350\n",
      "I  26885  0.1141  real: 16470\n",
      "D  15521  0.0659  real: 9394\n",
      "H  15521  0.0659  real: 13382\n",
      "T  15521  0.0659  real: 23325\n"
     ]
    }
   ],
   "source": [
    "print_max_freqs(dec_estim, 'en', n=7, compare='det')"
   ]
  },
  {
   "cell_type": "code",
   "execution_count": 110,
   "id": "001fdd46-7a4a-415c-9502-fa02c6cdd022",
   "metadata": {},
   "outputs": [
    {
     "name": "stdout",
     "output_type": "stream",
     "text": [
      "Z     61  0.0003  real: 124\n",
      "Q    189  0.0008  real: 319\n",
      "X    329  0.0014  real: 544\n",
      "J    329  0.0014  real: 520\n",
      "K    572  0.0024  real: 1243\n"
     ]
    }
   ],
   "source": [
    "print_min_freqs(dec_estim, 'en', n=5, compare='det')"
   ]
  },
  {
   "cell_type": "code",
   "execution_count": 111,
   "id": "c1263e22-367c-4adc-ba93-265f8592c940",
   "metadata": {},
   "outputs": [
    {
     "data": {
      "image/png": "[encoded data removed]",
      "text/plain": [
       "<Figure size 432x288 with 1 Axes>"
      ]
     },
     "metadata": {
      "needs_background": "light"
     },
     "output_type": "display_data"
    }
   ],
   "source": [
    "fig, ax = plot_rel_freqs(dec_estim, 'en', compare='det')\n",
    "ax.set_yscale('log')\n",
    "fig.savefig('./results/plots/08_dec_estim_compar_en', dpi=300)"
   ]
  },
  {
   "cell_type": "code",
   "execution_count": 112,
   "id": "c46272af-5597-451f-81a0-ae7d01f93d5c",
   "metadata": {},
   "outputs": [
    {
     "name": "stdout",
     "output_type": "stream",
     "text": [
      "E 139709  0.5243  real: 45127\n",
      "T  26885  0.1009  real: 19480\n",
      "I  26885  0.1009  real: 19715\n",
      "U  15521  0.0582  real: 15944\n",
      "S  15521  0.0582  real: 21579\n",
      "R  15521  0.0582  real: 17698\n",
      "O  15521  0.0582  real: 13799\n",
      "N  15521  0.0582  real: 20058\n",
      "L  15521  0.0582  real: 15359\n",
      "A   8960  0.0336  real: 21969\n"
     ]
    }
   ],
   "source": [
    "print_max_freqs(dec_estim, 'fr', n=10, compare='det')"
   ]
  },
  {
   "cell_type": "code",
   "execution_count": 113,
   "id": "9a7c59ba-784b-47a5-a7f1-aa1cf7974adf",
   "metadata": {},
   "outputs": [
    {
     "name": "stdout",
     "output_type": "stream",
     "text": [
      "K    108  0.0004  real: 81\n",
      "W    189  0.0007  real: 104\n",
      "Z    329  0.0012  real: 441\n",
      "Y    329  0.0012  real: 702\n",
      "Q    572  0.0021  real: 2818\n"
     ]
    }
   ],
   "source": [
    "print_min_freqs(dec_estim, 'fr', n=5, compare='det')"
   ]
  },
  {
   "cell_type": "code",
   "execution_count": 114,
   "id": "66df6b9d-1f2f-43fe-b67c-bbaa861bc44b",
   "metadata": {},
   "outputs": [
    {
     "data": {
      "image/png": "[encoded data removed]",
      "text/plain": [
       "<Figure size 432x288 with 1 Axes>"
      ]
     },
     "metadata": {
      "needs_background": "light"
     },
     "output_type": "display_data"
    }
   ],
   "source": [
    "fig, ax = plot_rel_freqs(dec_estim, 'fr', compare='det')\n",
    "ax.set_yscale('log')\n",
    "fig.savefig('./results/plots/08_dec_estim_compar_fr', dpi=300)"
   ]
  },
  {
   "cell_type": "markdown",
   "id": "767233f3-90b8-40b3-91ac-df81b0d13635",
   "metadata": {
    "tags": []
   },
   "source": [
    "### Tables"
   ]
  },
  {
   "cell_type": "code",
   "execution_count": 115,
   "id": "76e981f5-db25-4ae5-b582-eebf7295128c",
   "metadata": {},
   "outputs": [
    {
     "data": {
      "text/plain": [
       "329.578147715834"
      ]
     },
     "execution_count": 115,
     "metadata": {},
     "output_type": "execute_result"
    }
   ],
   "source": [
    "(sqrt3**10-sqrt3)/(sqrt3-1)"
   ]
  },
  {
   "cell_type": "code",
   "execution_count": 116,
   "id": "d98ec19a-b497-4fe1-b5c6-2dcddd9b1edb",
   "metadata": {},
   "outputs": [],
   "source": [
    "def create_dec_table(results, lang, n=5):        \n",
    "    data = {\n",
    "        'Letter': letter_labels,\n",
    "        'Exact counts': det_results[lang].ravel(),\n",
    "        'Average estimate': (sqrt3**np.mean(results[lang], axis=1)-sqrt3)/(sqrt3-1), \n",
    "        'Minimum estimate': (sqrt3**np.min(results[lang], axis=1)-sqrt3)/(sqrt3-1),\n",
    "        'Maximum estimate': (sqrt3**np.max(results[lang], axis=1)-sqrt3)/(sqrt3-1),\n",
    "        'Standard deviation': np.std((sqrt3**results[lang]-sqrt3)/(sqrt3-1), axis=1),        \n",
    "    }    \n",
    "    \n",
    "    df = pd.DataFrame(data)\n",
    "    df['Average relative error'] = np.abs(df['Average estimate'] - df['Exact counts'])/df['Exact counts'] * 100\n",
    "    df['Maximum relative error'] = np.max((np.abs(df['Minimum estimate'] - df['Exact counts'])/df['Exact counts'],\n",
    "                                           np.abs(df['Maximum estimate'] - df['Exact counts'])/df['Exact counts']), \n",
    "                                           axis=0) * 100\n",
    "    \n",
    "    return df\n",
    "        "
   ]
  },
  {
   "cell_type": "code",
   "execution_count": 117,
   "id": "7ed23195-8736-493d-82bd-05ed1fd59c11",
   "metadata": {
    "tags": []
   },
   "outputs": [
    {
     "data": {
      "text/html": [
       "<div>\n",
       "<style scoped>\n",
       "    .dataframe tbody tr th:only-of-type {\n",
       "        vertical-align: middle;\n",
       "    }\n",
       "\n",
       "    .dataframe tbody tr th {\n",
       "        vertical-align: top;\n",
       "    }\n",
       "\n",
       "    .dataframe thead th {\n",
       "        text-align: right;\n",
       "    }\n",
       "</style>\n",
       "<table border=\"1\" class=\"dataframe\">\n",
       "  <thead>\n",
       "    <tr style=\"text-align: right;\">\n",
       "      <th></th>\n",
       "      <th>Letter</th>\n",
       "      <th>Exact counts</th>\n",
       "      <th>Average estimate</th>\n",
       "      <th>Minimum estimate</th>\n",
       "      <th>Maximum estimate</th>\n",
       "      <th>Standard deviation</th>\n",
       "      <th>Average relative error</th>\n",
       "      <th>Maximum relative error</th>\n",
       "    </tr>\n",
       "  </thead>\n",
       "  <tbody>\n",
       "    <tr>\n",
       "      <th>0</th>\n",
       "      <td>A</td>\n",
       "      <td>37584</td>\n",
       "      <td>32782.276673</td>\n",
       "      <td>8960.126649</td>\n",
       "      <td>241984.936179</td>\n",
       "      <td>24905.302689</td>\n",
       "      <td>12.775977</td>\n",
       "      <td>543.850937</td>\n",
       "    </tr>\n",
       "    <tr>\n",
       "      <th>4</th>\n",
       "      <td>E</td>\n",
       "      <td>36029</td>\n",
       "      <td>31424.515374</td>\n",
       "      <td>8960.126649</td>\n",
       "      <td>241984.936179</td>\n",
       "      <td>22122.895818</td>\n",
       "      <td>12.779940</td>\n",
       "      <td>571.639335</td>\n",
       "    </tr>\n",
       "    <tr>\n",
       "      <th>14</th>\n",
       "      <td>O</td>\n",
       "      <td>28623</td>\n",
       "      <td>23720.013262</td>\n",
       "      <td>5172.131533</td>\n",
       "      <td>139709.068043</td>\n",
       "      <td>15860.344247</td>\n",
       "      <td>17.129535</td>\n",
       "      <td>388.100716</td>\n",
       "    </tr>\n",
       "    <tr>\n",
       "      <th>18</th>\n",
       "      <td>S</td>\n",
       "      <td>22100</td>\n",
       "      <td>19420.896360</td>\n",
       "      <td>5172.131533</td>\n",
       "      <td>80660.068043</td>\n",
       "      <td>12420.389443</td>\n",
       "      <td>12.122641</td>\n",
       "      <td>264.977683</td>\n",
       "    </tr>\n",
       "    <tr>\n",
       "      <th>17</th>\n",
       "      <td>R</td>\n",
       "      <td>18555</td>\n",
       "      <td>15892.158764</td>\n",
       "      <td>2985.131533</td>\n",
       "      <td>80660.068043</td>\n",
       "      <td>10420.618641</td>\n",
       "      <td>14.351071</td>\n",
       "      <td>334.707993</td>\n",
       "    </tr>\n",
       "    <tr>\n",
       "      <th>8</th>\n",
       "      <td>I</td>\n",
       "      <td>16980</td>\n",
       "      <td>14340.525395</td>\n",
       "      <td>2985.131533</td>\n",
       "      <td>80660.068043</td>\n",
       "      <td>9914.998670</td>\n",
       "      <td>15.544609</td>\n",
       "      <td>375.029847</td>\n",
       "    </tr>\n",
       "    <tr>\n",
       "      <th>3</th>\n",
       "      <td>D</td>\n",
       "      <td>14444</td>\n",
       "      <td>12645.181705</td>\n",
       "      <td>2985.131533</td>\n",
       "      <td>80660.068043</td>\n",
       "      <td>8310.336776</td>\n",
       "      <td>12.453741</td>\n",
       "      <td>458.433038</td>\n",
       "    </tr>\n",
       "    <tr>\n",
       "      <th>13</th>\n",
       "      <td>N</td>\n",
       "      <td>14216</td>\n",
       "      <td>12377.115686</td>\n",
       "      <td>1722.466494</td>\n",
       "      <td>80660.068043</td>\n",
       "      <td>8909.704281</td>\n",
       "      <td>12.935315</td>\n",
       "      <td>467.389336</td>\n",
       "    </tr>\n",
       "    <tr>\n",
       "      <th>19</th>\n",
       "      <td>T</td>\n",
       "      <td>13684</td>\n",
       "      <td>12028.511618</td>\n",
       "      <td>2985.131533</td>\n",
       "      <td>80660.068043</td>\n",
       "      <td>8534.396248</td>\n",
       "      <td>12.097986</td>\n",
       "      <td>489.448027</td>\n",
       "    </tr>\n",
       "    <tr>\n",
       "      <th>12</th>\n",
       "      <td>M</td>\n",
       "      <td>12923</td>\n",
       "      <td>11587.413845</td>\n",
       "      <td>2985.131533</td>\n",
       "      <td>80660.068043</td>\n",
       "      <td>8661.170107</td>\n",
       "      <td>10.334954</td>\n",
       "      <td>524.159004</td>\n",
       "    </tr>\n",
       "    <tr>\n",
       "      <th>20</th>\n",
       "      <td>U</td>\n",
       "      <td>11252</td>\n",
       "      <td>9799.622639</td>\n",
       "      <td>2985.131533</td>\n",
       "      <td>80660.068043</td>\n",
       "      <td>7116.199387</td>\n",
       "      <td>12.907726</td>\n",
       "      <td>616.850942</td>\n",
       "    </tr>\n",
       "    <tr>\n",
       "      <th>2</th>\n",
       "      <td>C</td>\n",
       "      <td>11270</td>\n",
       "      <td>9681.881073</td>\n",
       "      <td>2985.131533</td>\n",
       "      <td>46568.111997</td>\n",
       "      <td>6299.275547</td>\n",
       "      <td>14.091561</td>\n",
       "      <td>313.204188</td>\n",
       "    </tr>\n",
       "    <tr>\n",
       "      <th>11</th>\n",
       "      <td>L</td>\n",
       "      <td>9073</td>\n",
       "      <td>7724.750194</td>\n",
       "      <td>1722.466494</td>\n",
       "      <td>46568.111997</td>\n",
       "      <td>5668.910004</td>\n",
       "      <td>14.860022</td>\n",
       "      <td>413.260355</td>\n",
       "    </tr>\n",
       "    <tr>\n",
       "      <th>15</th>\n",
       "      <td>P</td>\n",
       "      <td>8339</td>\n",
       "      <td>7016.538493</td>\n",
       "      <td>1722.466494</td>\n",
       "      <td>46568.111997</td>\n",
       "      <td>4618.750197</td>\n",
       "      <td>15.858754</td>\n",
       "      <td>458.437606</td>\n",
       "    </tr>\n",
       "    <tr>\n",
       "      <th>21</th>\n",
       "      <td>V</td>\n",
       "      <td>4301</td>\n",
       "      <td>3632.376925</td>\n",
       "      <td>993.466494</td>\n",
       "      <td>15521.126649</td>\n",
       "      <td>2447.818889</td>\n",
       "      <td>15.545759</td>\n",
       "      <td>260.872510</td>\n",
       "    </tr>\n",
       "    <tr>\n",
       "      <th>7</th>\n",
       "      <td>H</td>\n",
       "      <td>3474</td>\n",
       "      <td>3026.440795</td>\n",
       "      <td>572.578148</td>\n",
       "      <td>15521.126649</td>\n",
       "      <td>2055.846678</td>\n",
       "      <td>12.883109</td>\n",
       "      <td>346.779696</td>\n",
       "    </tr>\n",
       "    <tr>\n",
       "      <th>6</th>\n",
       "      <td>G</td>\n",
       "      <td>3250</td>\n",
       "      <td>2944.385678</td>\n",
       "      <td>572.578148</td>\n",
       "      <td>26885.111997</td>\n",
       "      <td>2158.099391</td>\n",
       "      <td>9.403518</td>\n",
       "      <td>727.234215</td>\n",
       "    </tr>\n",
       "    <tr>\n",
       "      <th>1</th>\n",
       "      <td>B</td>\n",
       "      <td>3183</td>\n",
       "      <td>2723.270461</td>\n",
       "      <td>572.578148</td>\n",
       "      <td>15521.126649</td>\n",
       "      <td>2045.835441</td>\n",
       "      <td>14.443278</td>\n",
       "      <td>387.625719</td>\n",
       "    </tr>\n",
       "    <tr>\n",
       "      <th>16</th>\n",
       "      <td>Q</td>\n",
       "      <td>3137</td>\n",
       "      <td>2687.573269</td>\n",
       "      <td>572.578148</td>\n",
       "      <td>15521.126649</td>\n",
       "      <td>1978.417984</td>\n",
       "      <td>14.326641</td>\n",
       "      <td>394.776112</td>\n",
       "    </tr>\n",
       "    <tr>\n",
       "      <th>5</th>\n",
       "      <td>F</td>\n",
       "      <td>2666</td>\n",
       "      <td>2328.289857</td>\n",
       "      <td>572.578148</td>\n",
       "      <td>15521.126649</td>\n",
       "      <td>1687.157771</td>\n",
       "      <td>12.667297</td>\n",
       "      <td>482.187796</td>\n",
       "    </tr>\n",
       "    <tr>\n",
       "      <th>25</th>\n",
       "      <td>Z</td>\n",
       "      <td>1107</td>\n",
       "      <td>971.824450</td>\n",
       "      <td>189.282032</td>\n",
       "      <td>5172.131533</td>\n",
       "      <td>680.259638</td>\n",
       "      <td>12.210980</td>\n",
       "      <td>367.220554</td>\n",
       "    </tr>\n",
       "    <tr>\n",
       "      <th>9</th>\n",
       "      <td>J</td>\n",
       "      <td>849</td>\n",
       "      <td>731.784571</td>\n",
       "      <td>189.282032</td>\n",
       "      <td>5172.131533</td>\n",
       "      <td>497.263716</td>\n",
       "      <td>13.806293</td>\n",
       "      <td>509.202772</td>\n",
       "    </tr>\n",
       "    <tr>\n",
       "      <th>23</th>\n",
       "      <td>X</td>\n",
       "      <td>813</td>\n",
       "      <td>687.221259</td>\n",
       "      <td>108.282032</td>\n",
       "      <td>2985.131533</td>\n",
       "      <td>456.655216</td>\n",
       "      <td>15.470940</td>\n",
       "      <td>267.174850</td>\n",
       "    </tr>\n",
       "    <tr>\n",
       "      <th>24</th>\n",
       "      <td>Y</td>\n",
       "      <td>214</td>\n",
       "      <td>180.941803</td>\n",
       "      <td>34.516660</td>\n",
       "      <td>993.466494</td>\n",
       "      <td>120.557583</td>\n",
       "      <td>15.447756</td>\n",
       "      <td>364.236679</td>\n",
       "    </tr>\n",
       "    <tr>\n",
       "      <th>22</th>\n",
       "      <td>W</td>\n",
       "      <td>100</td>\n",
       "      <td>84.764418</td>\n",
       "      <td>18.928203</td>\n",
       "      <td>993.466494</td>\n",
       "      <td>64.894506</td>\n",
       "      <td>15.235582</td>\n",
       "      <td>893.466494</td>\n",
       "    </tr>\n",
       "    <tr>\n",
       "      <th>10</th>\n",
       "      <td>K</td>\n",
       "      <td>73</td>\n",
       "      <td>62.935841</td>\n",
       "      <td>9.928203</td>\n",
       "      <td>329.578148</td>\n",
       "      <td>45.478929</td>\n",
       "      <td>13.786519</td>\n",
       "      <td>351.476915</td>\n",
       "    </tr>\n",
       "  </tbody>\n",
       "</table>\n",
       "</div>"
      ],
      "text/plain": [
       "   Letter  Exact counts  Average estimate  Minimum estimate  Maximum estimate  \\\n",
       "0       A         37584      32782.276673       8960.126649     241984.936179   \n",
       "4       E         36029      31424.515374       8960.126649     241984.936179   \n",
       "14      O         28623      23720.013262       5172.131533     139709.068043   \n",
       "18      S         22100      19420.896360       5172.131533      80660.068043   \n",
       "17      R         18555      15892.158764       2985.131533      80660.068043   \n",
       "8       I         16980      14340.525395       2985.131533      80660.068043   \n",
       "3       D         14444      12645.181705       2985.131533      80660.068043   \n",
       "13      N         14216      12377.115686       1722.466494      80660.068043   \n",
       "19      T         13684      12028.511618       2985.131533      80660.068043   \n",
       "12      M         12923      11587.413845       2985.131533      80660.068043   \n",
       "20      U         11252       9799.622639       2985.131533      80660.068043   \n",
       "2       C         11270       9681.881073       2985.131533      46568.111997   \n",
       "11      L          9073       7724.750194       1722.466494      46568.111997   \n",
       "15      P          8339       7016.538493       1722.466494      46568.111997   \n",
       "21      V          4301       3632.376925        993.466494      15521.126649   \n",
       "7       H          3474       3026.440795        572.578148      15521.126649   \n",
       "6       G          3250       2944.385678        572.578148      26885.111997   \n",
       "1       B          3183       2723.270461        572.578148      15521.126649   \n",
       "16      Q          3137       2687.573269        572.578148      15521.126649   \n",
       "5       F          2666       2328.289857        572.578148      15521.126649   \n",
       "25      Z          1107        971.824450        189.282032       5172.131533   \n",
       "9       J           849        731.784571        189.282032       5172.131533   \n",
       "23      X           813        687.221259        108.282032       2985.131533   \n",
       "24      Y           214        180.941803         34.516660        993.466494   \n",
       "22      W           100         84.764418         18.928203        993.466494   \n",
       "10      K            73         62.935841          9.928203        329.578148   \n",
       "\n",
       "    Standard deviation  Average relative error  Maximum relative error  \n",
       "0         24905.302689               12.775977              543.850937  \n",
       "4         22122.895818               12.779940              571.639335  \n",
       "14        15860.344247               17.129535              388.100716  \n",
       "18        12420.389443               12.122641              264.977683  \n",
       "17        10420.618641               14.351071              334.707993  \n",
       "8          9914.998670               15.544609              375.029847  \n",
       "3          8310.336776               12.453741              458.433038  \n",
       "13         8909.704281               12.935315              467.389336  \n",
       "19         8534.396248               12.097986              489.448027  \n",
       "12         8661.170107               10.334954              524.159004  \n",
       "20         7116.199387               12.907726              616.850942  \n",
       "2          6299.275547               14.091561              313.204188  \n",
       "11         5668.910004               14.860022              413.260355  \n",
       "15         4618.750197               15.858754              458.437606  \n",
       "21         2447.818889               15.545759              260.872510  \n",
       "7          2055.846678               12.883109              346.779696  \n",
       "6          2158.099391                9.403518              727.234215  \n",
       "1          2045.835441               14.443278              387.625719  \n",
       "16         1978.417984               14.326641              394.776112  \n",
       "5          1687.157771               12.667297              482.187796  \n",
       "25          680.259638               12.210980              367.220554  \n",
       "9           497.263716               13.806293              509.202772  \n",
       "23          456.655216               15.470940              267.174850  \n",
       "24          120.557583               15.447756              364.236679  \n",
       "22           64.894506               15.235582              893.466494  \n",
       "10           45.478929               13.786519              351.476915  "
      ]
     },
     "execution_count": 117,
     "metadata": {},
     "output_type": "execute_result"
    }
   ],
   "source": [
    "df_pt = create_dec_table(dec_results, 'pt')\n",
    "df_pt = df_pt.sort_values(by='Average estimate', ascending=False)\n",
    "df_pt"
   ]
  },
  {
   "cell_type": "code",
   "execution_count": 118,
   "id": "f5c8c714-ac3c-404c-8f82-8c4f929358cf",
   "metadata": {},
   "outputs": [
    {
     "data": {
      "text/html": [
       "<div>\n",
       "<style scoped>\n",
       "    .dataframe tbody tr th:only-of-type {\n",
       "        vertical-align: middle;\n",
       "    }\n",
       "\n",
       "    .dataframe tbody tr th {\n",
       "        vertical-align: top;\n",
       "    }\n",
       "\n",
       "    .dataframe thead th {\n",
       "        text-align: right;\n",
       "    }\n",
       "</style>\n",
       "<table border=\"1\" class=\"dataframe\">\n",
       "  <thead>\n",
       "    <tr style=\"text-align: right;\">\n",
       "      <th></th>\n",
       "      <th>Letter</th>\n",
       "      <th>Exact counts</th>\n",
       "      <th>Average estimate</th>\n",
       "      <th>Minimum estimate</th>\n",
       "      <th>Maximum estimate</th>\n",
       "      <th>Standard deviation</th>\n",
       "      <th>Average relative error</th>\n",
       "      <th>Maximum relative error</th>\n",
       "    </tr>\n",
       "  </thead>\n",
       "  <tbody>\n",
       "    <tr>\n",
       "      <th>0</th>\n",
       "      <td>A</td>\n",
       "      <td>37584</td>\n",
       "      <td>32782.276673</td>\n",
       "      <td>8960.126649</td>\n",
       "      <td>241984.936179</td>\n",
       "      <td>24905.302689</td>\n",
       "      <td>12.775977</td>\n",
       "      <td>543.850937</td>\n",
       "    </tr>\n",
       "    <tr>\n",
       "      <th>4</th>\n",
       "      <td>E</td>\n",
       "      <td>36029</td>\n",
       "      <td>31424.515374</td>\n",
       "      <td>8960.126649</td>\n",
       "      <td>241984.936179</td>\n",
       "      <td>22122.895818</td>\n",
       "      <td>12.779940</td>\n",
       "      <td>571.639335</td>\n",
       "    </tr>\n",
       "    <tr>\n",
       "      <th>14</th>\n",
       "      <td>O</td>\n",
       "      <td>28623</td>\n",
       "      <td>23720.013262</td>\n",
       "      <td>5172.131533</td>\n",
       "      <td>139709.068043</td>\n",
       "      <td>15860.344247</td>\n",
       "      <td>17.129535</td>\n",
       "      <td>388.100716</td>\n",
       "    </tr>\n",
       "    <tr>\n",
       "      <th>18</th>\n",
       "      <td>S</td>\n",
       "      <td>22100</td>\n",
       "      <td>19420.896360</td>\n",
       "      <td>5172.131533</td>\n",
       "      <td>80660.068043</td>\n",
       "      <td>12420.389443</td>\n",
       "      <td>12.122641</td>\n",
       "      <td>264.977683</td>\n",
       "    </tr>\n",
       "    <tr>\n",
       "      <th>17</th>\n",
       "      <td>R</td>\n",
       "      <td>18555</td>\n",
       "      <td>15892.158764</td>\n",
       "      <td>2985.131533</td>\n",
       "      <td>80660.068043</td>\n",
       "      <td>10420.618641</td>\n",
       "      <td>14.351071</td>\n",
       "      <td>334.707993</td>\n",
       "    </tr>\n",
       "    <tr>\n",
       "      <th>9</th>\n",
       "      <td>J</td>\n",
       "      <td>849</td>\n",
       "      <td>731.784571</td>\n",
       "      <td>189.282032</td>\n",
       "      <td>5172.131533</td>\n",
       "      <td>497.263716</td>\n",
       "      <td>13.806293</td>\n",
       "      <td>509.202772</td>\n",
       "    </tr>\n",
       "    <tr>\n",
       "      <th>23</th>\n",
       "      <td>X</td>\n",
       "      <td>813</td>\n",
       "      <td>687.221259</td>\n",
       "      <td>108.282032</td>\n",
       "      <td>2985.131533</td>\n",
       "      <td>456.655216</td>\n",
       "      <td>15.470940</td>\n",
       "      <td>267.174850</td>\n",
       "    </tr>\n",
       "    <tr>\n",
       "      <th>24</th>\n",
       "      <td>Y</td>\n",
       "      <td>214</td>\n",
       "      <td>180.941803</td>\n",
       "      <td>34.516660</td>\n",
       "      <td>993.466494</td>\n",
       "      <td>120.557583</td>\n",
       "      <td>15.447756</td>\n",
       "      <td>364.236679</td>\n",
       "    </tr>\n",
       "    <tr>\n",
       "      <th>22</th>\n",
       "      <td>W</td>\n",
       "      <td>100</td>\n",
       "      <td>84.764418</td>\n",
       "      <td>18.928203</td>\n",
       "      <td>993.466494</td>\n",
       "      <td>64.894506</td>\n",
       "      <td>15.235582</td>\n",
       "      <td>893.466494</td>\n",
       "    </tr>\n",
       "    <tr>\n",
       "      <th>10</th>\n",
       "      <td>K</td>\n",
       "      <td>73</td>\n",
       "      <td>62.935841</td>\n",
       "      <td>9.928203</td>\n",
       "      <td>329.578148</td>\n",
       "      <td>45.478929</td>\n",
       "      <td>13.786519</td>\n",
       "      <td>351.476915</td>\n",
       "    </tr>\n",
       "  </tbody>\n",
       "</table>\n",
       "</div>"
      ],
      "text/plain": [
       "   Letter  Exact counts  Average estimate  Minimum estimate  Maximum estimate  \\\n",
       "0       A         37584      32782.276673       8960.126649     241984.936179   \n",
       "4       E         36029      31424.515374       8960.126649     241984.936179   \n",
       "14      O         28623      23720.013262       5172.131533     139709.068043   \n",
       "18      S         22100      19420.896360       5172.131533      80660.068043   \n",
       "17      R         18555      15892.158764       2985.131533      80660.068043   \n",
       "9       J           849        731.784571        189.282032       5172.131533   \n",
       "23      X           813        687.221259        108.282032       2985.131533   \n",
       "24      Y           214        180.941803         34.516660        993.466494   \n",
       "22      W           100         84.764418         18.928203        993.466494   \n",
       "10      K            73         62.935841          9.928203        329.578148   \n",
       "\n",
       "    Standard deviation  Average relative error  Maximum relative error  \n",
       "0         24905.302689               12.775977              543.850937  \n",
       "4         22122.895818               12.779940              571.639335  \n",
       "14        15860.344247               17.129535              388.100716  \n",
       "18        12420.389443               12.122641              264.977683  \n",
       "17        10420.618641               14.351071              334.707993  \n",
       "9           497.263716               13.806293              509.202772  \n",
       "23          456.655216               15.470940              267.174850  \n",
       "24          120.557583               15.447756              364.236679  \n",
       "22           64.894506               15.235582              893.466494  \n",
       "10           45.478929               13.786519              351.476915  "
      ]
     },
     "execution_count": 118,
     "metadata": {},
     "output_type": "execute_result"
    }
   ],
   "source": [
    "idxs = np.r_[0:5, -5:0]\n",
    "df_pt.iloc[idxs]"
   ]
  },
  {
   "cell_type": "code",
   "execution_count": 119,
   "id": "4f9e63e8-768e-4834-b0b8-55e62a84dbb5",
   "metadata": {},
   "outputs": [],
   "source": [
    "with open('./results/tables/dec_table_short_pt.tex', 'w') as f:\n",
    "    (df_pt.iloc[idxs]).to_latex(f, float_format=\"{:0.2f}\".format, index=False)"
   ]
  },
  {
   "cell_type": "code",
   "execution_count": 120,
   "id": "7fafa2ea-831c-43ee-8104-7505be23349c",
   "metadata": {},
   "outputs": [],
   "source": [
    "with open('./results/tables/dec_table_pt.tex', 'w') as f:\n",
    "    df_pt.to_latex(f, float_format=\"{:0.2f}\".format, index=False)"
   ]
  },
  {
   "cell_type": "code",
   "execution_count": 121,
   "id": "5d353acc-d547-4197-9e69-356eaf6f1e2d",
   "metadata": {},
   "outputs": [
    {
     "data": {
      "text/html": [
       "<div>\n",
       "<style scoped>\n",
       "    .dataframe tbody tr th:only-of-type {\n",
       "        vertical-align: middle;\n",
       "    }\n",
       "\n",
       "    .dataframe tbody tr th {\n",
       "        vertical-align: top;\n",
       "    }\n",
       "\n",
       "    .dataframe thead th {\n",
       "        text-align: right;\n",
       "    }\n",
       "</style>\n",
       "<table border=\"1\" class=\"dataframe\">\n",
       "  <thead>\n",
       "    <tr style=\"text-align: right;\">\n",
       "      <th></th>\n",
       "      <th>Letter</th>\n",
       "      <th>Exact counts</th>\n",
       "      <th>Average estimate</th>\n",
       "      <th>Minimum estimate</th>\n",
       "      <th>Maximum estimate</th>\n",
       "      <th>Standard deviation</th>\n",
       "      <th>Average relative error</th>\n",
       "      <th>Maximum relative error</th>\n",
       "    </tr>\n",
       "  </thead>\n",
       "  <tbody>\n",
       "    <tr>\n",
       "      <th>4</th>\n",
       "      <td>E</td>\n",
       "      <td>30350</td>\n",
       "      <td>26840.840115</td>\n",
       "      <td>5172.131533</td>\n",
       "      <td>139709.068043</td>\n",
       "      <td>20030.710468</td>\n",
       "      <td>11.562306</td>\n",
       "      <td>360.326419</td>\n",
       "    </tr>\n",
       "    <tr>\n",
       "      <th>19</th>\n",
       "      <td>T</td>\n",
       "      <td>23325</td>\n",
       "      <td>20060.697767</td>\n",
       "      <td>5172.131533</td>\n",
       "      <td>139709.068043</td>\n",
       "      <td>13753.674303</td>\n",
       "      <td>13.994865</td>\n",
       "      <td>498.967066</td>\n",
       "    </tr>\n",
       "    <tr>\n",
       "      <th>0</th>\n",
       "      <td>A</td>\n",
       "      <td>18575</td>\n",
       "      <td>16289.948149</td>\n",
       "      <td>2985.131533</td>\n",
       "      <td>80660.068043</td>\n",
       "      <td>11267.011128</td>\n",
       "      <td>12.301760</td>\n",
       "      <td>334.239936</td>\n",
       "    </tr>\n",
       "    <tr>\n",
       "      <th>14</th>\n",
       "      <td>O</td>\n",
       "      <td>17888</td>\n",
       "      <td>15470.047969</td>\n",
       "      <td>5172.131533</td>\n",
       "      <td>80660.068043</td>\n",
       "      <td>10199.997686</td>\n",
       "      <td>13.517174</td>\n",
       "      <td>350.917196</td>\n",
       "    </tr>\n",
       "    <tr>\n",
       "      <th>13</th>\n",
       "      <td>N</td>\n",
       "      <td>16591</td>\n",
       "      <td>14348.406198</td>\n",
       "      <td>2985.131533</td>\n",
       "      <td>139709.068043</td>\n",
       "      <td>11698.239265</td>\n",
       "      <td>13.516930</td>\n",
       "      <td>742.077440</td>\n",
       "    </tr>\n",
       "    <tr>\n",
       "      <th>8</th>\n",
       "      <td>I</td>\n",
       "      <td>16470</td>\n",
       "      <td>14324.776771</td>\n",
       "      <td>2985.131533</td>\n",
       "      <td>80660.068043</td>\n",
       "      <td>9667.034159</td>\n",
       "      <td>13.025035</td>\n",
       "      <td>389.739332</td>\n",
       "    </tr>\n",
       "    <tr>\n",
       "      <th>18</th>\n",
       "      <td>S</td>\n",
       "      <td>14875</td>\n",
       "      <td>13119.327472</td>\n",
       "      <td>2985.131533</td>\n",
       "      <td>80660.068043</td>\n",
       "      <td>9006.341190</td>\n",
       "      <td>11.802841</td>\n",
       "      <td>442.252558</td>\n",
       "    </tr>\n",
       "    <tr>\n",
       "      <th>17</th>\n",
       "      <td>R</td>\n",
       "      <td>13723</td>\n",
       "      <td>11962.606444</td>\n",
       "      <td>2985.131533</td>\n",
       "      <td>139709.068043</td>\n",
       "      <td>9302.017987</td>\n",
       "      <td>12.828052</td>\n",
       "      <td>918.065059</td>\n",
       "    </tr>\n",
       "    <tr>\n",
       "      <th>7</th>\n",
       "      <td>H</td>\n",
       "      <td>13382</td>\n",
       "      <td>11448.197316</td>\n",
       "      <td>2985.131533</td>\n",
       "      <td>80660.068043</td>\n",
       "      <td>8002.944255</td>\n",
       "      <td>14.450775</td>\n",
       "      <td>502.750471</td>\n",
       "    </tr>\n",
       "    <tr>\n",
       "      <th>11</th>\n",
       "      <td>L</td>\n",
       "      <td>9637</td>\n",
       "      <td>8393.008961</td>\n",
       "      <td>1722.466494</td>\n",
       "      <td>46568.111997</td>\n",
       "      <td>5732.181261</td>\n",
       "      <td>12.908489</td>\n",
       "      <td>383.222082</td>\n",
       "    </tr>\n",
       "    <tr>\n",
       "      <th>3</th>\n",
       "      <td>D</td>\n",
       "      <td>9394</td>\n",
       "      <td>8342.433970</td>\n",
       "      <td>1722.466494</td>\n",
       "      <td>46568.111997</td>\n",
       "      <td>6256.341402</td>\n",
       "      <td>11.194018</td>\n",
       "      <td>395.721865</td>\n",
       "    </tr>\n",
       "    <tr>\n",
       "      <th>2</th>\n",
       "      <td>C</td>\n",
       "      <td>7102</td>\n",
       "      <td>5999.406840</td>\n",
       "      <td>1722.466494</td>\n",
       "      <td>46568.111997</td>\n",
       "      <td>4327.385580</td>\n",
       "      <td>15.525108</td>\n",
       "      <td>555.704196</td>\n",
       "    </tr>\n",
       "    <tr>\n",
       "      <th>20</th>\n",
       "      <td>U</td>\n",
       "      <td>6648</td>\n",
       "      <td>5862.525843</td>\n",
       "      <td>1722.466494</td>\n",
       "      <td>46568.111997</td>\n",
       "      <td>3767.641424</td>\n",
       "      <td>11.815195</td>\n",
       "      <td>600.483032</td>\n",
       "    </tr>\n",
       "    <tr>\n",
       "      <th>12</th>\n",
       "      <td>M</td>\n",
       "      <td>6051</td>\n",
       "      <td>5157.939115</td>\n",
       "      <td>1722.466494</td>\n",
       "      <td>26885.111997</td>\n",
       "      <td>3410.258341</td>\n",
       "      <td>14.758897</td>\n",
       "      <td>344.308577</td>\n",
       "    </tr>\n",
       "    <tr>\n",
       "      <th>5</th>\n",
       "      <td>F</td>\n",
       "      <td>5612</td>\n",
       "      <td>4914.428371</td>\n",
       "      <td>993.466494</td>\n",
       "      <td>26885.111997</td>\n",
       "      <td>3414.853224</td>\n",
       "      <td>12.430001</td>\n",
       "      <td>379.064718</td>\n",
       "    </tr>\n",
       "    <tr>\n",
       "      <th>22</th>\n",
       "      <td>W</td>\n",
       "      <td>4685</td>\n",
       "      <td>4128.663787</td>\n",
       "      <td>993.466494</td>\n",
       "      <td>26885.111997</td>\n",
       "      <td>2973.895668</td>\n",
       "      <td>11.874839</td>\n",
       "      <td>473.855112</td>\n",
       "    </tr>\n",
       "    <tr>\n",
       "      <th>15</th>\n",
       "      <td>P</td>\n",
       "      <td>4672</td>\n",
       "      <td>4050.000388</td>\n",
       "      <td>993.466494</td>\n",
       "      <td>26885.111997</td>\n",
       "      <td>2964.515435</td>\n",
       "      <td>13.313348</td>\n",
       "      <td>475.451884</td>\n",
       "    </tr>\n",
       "    <tr>\n",
       "      <th>1</th>\n",
       "      <td>B</td>\n",
       "      <td>4138</td>\n",
       "      <td>3451.357466</td>\n",
       "      <td>572.578148</td>\n",
       "      <td>26885.111997</td>\n",
       "      <td>2465.756155</td>\n",
       "      <td>16.593585</td>\n",
       "      <td>549.712711</td>\n",
       "    </tr>\n",
       "    <tr>\n",
       "      <th>6</th>\n",
       "      <td>G</td>\n",
       "      <td>3925</td>\n",
       "      <td>3302.871801</td>\n",
       "      <td>993.466494</td>\n",
       "      <td>15521.126649</td>\n",
       "      <td>2322.469149</td>\n",
       "      <td>15.850400</td>\n",
       "      <td>295.442717</td>\n",
       "    </tr>\n",
       "    <tr>\n",
       "      <th>24</th>\n",
       "      <td>Y</td>\n",
       "      <td>3693</td>\n",
       "      <td>3209.796875</td>\n",
       "      <td>993.466494</td>\n",
       "      <td>26885.111997</td>\n",
       "      <td>2393.275797</td>\n",
       "      <td>13.084298</td>\n",
       "      <td>628.001950</td>\n",
       "    </tr>\n",
       "    <tr>\n",
       "      <th>21</th>\n",
       "      <td>V</td>\n",
       "      <td>2159</td>\n",
       "      <td>1888.176960</td>\n",
       "      <td>572.578148</td>\n",
       "      <td>8960.126649</td>\n",
       "      <td>1385.094765</td>\n",
       "      <td>12.543911</td>\n",
       "      <td>315.012814</td>\n",
       "    </tr>\n",
       "    <tr>\n",
       "      <th>10</th>\n",
       "      <td>K</td>\n",
       "      <td>1243</td>\n",
       "      <td>1064.245771</td>\n",
       "      <td>329.578148</td>\n",
       "      <td>5172.131533</td>\n",
       "      <td>707.578893</td>\n",
       "      <td>14.380871</td>\n",
       "      <td>316.100686</td>\n",
       "    </tr>\n",
       "    <tr>\n",
       "      <th>23</th>\n",
       "      <td>X</td>\n",
       "      <td>544</td>\n",
       "      <td>466.061668</td>\n",
       "      <td>108.282032</td>\n",
       "      <td>1722.466494</td>\n",
       "      <td>307.087475</td>\n",
       "      <td>14.326899</td>\n",
       "      <td>216.629870</td>\n",
       "    </tr>\n",
       "    <tr>\n",
       "      <th>9</th>\n",
       "      <td>J</td>\n",
       "      <td>520</td>\n",
       "      <td>451.123736</td>\n",
       "      <td>108.282032</td>\n",
       "      <td>2985.131533</td>\n",
       "      <td>340.573467</td>\n",
       "      <td>13.245435</td>\n",
       "      <td>474.063756</td>\n",
       "    </tr>\n",
       "    <tr>\n",
       "      <th>16</th>\n",
       "      <td>Q</td>\n",
       "      <td>319</td>\n",
       "      <td>275.153973</td>\n",
       "      <td>61.516660</td>\n",
       "      <td>1722.466494</td>\n",
       "      <td>193.349770</td>\n",
       "      <td>13.744836</td>\n",
       "      <td>439.958149</td>\n",
       "    </tr>\n",
       "    <tr>\n",
       "      <th>25</th>\n",
       "      <td>Z</td>\n",
       "      <td>124</td>\n",
       "      <td>106.234702</td>\n",
       "      <td>18.928203</td>\n",
       "      <td>993.466494</td>\n",
       "      <td>80.541307</td>\n",
       "      <td>14.326853</td>\n",
       "      <td>701.182656</td>\n",
       "    </tr>\n",
       "  </tbody>\n",
       "</table>\n",
       "</div>"
      ],
      "text/plain": [
       "   Letter  Exact counts  Average estimate  Minimum estimate  Maximum estimate  \\\n",
       "4       E         30350      26840.840115       5172.131533     139709.068043   \n",
       "19      T         23325      20060.697767       5172.131533     139709.068043   \n",
       "0       A         18575      16289.948149       2985.131533      80660.068043   \n",
       "14      O         17888      15470.047969       5172.131533      80660.068043   \n",
       "13      N         16591      14348.406198       2985.131533     139709.068043   \n",
       "8       I         16470      14324.776771       2985.131533      80660.068043   \n",
       "18      S         14875      13119.327472       2985.131533      80660.068043   \n",
       "17      R         13723      11962.606444       2985.131533     139709.068043   \n",
       "7       H         13382      11448.197316       2985.131533      80660.068043   \n",
       "11      L          9637       8393.008961       1722.466494      46568.111997   \n",
       "3       D          9394       8342.433970       1722.466494      46568.111997   \n",
       "2       C          7102       5999.406840       1722.466494      46568.111997   \n",
       "20      U          6648       5862.525843       1722.466494      46568.111997   \n",
       "12      M          6051       5157.939115       1722.466494      26885.111997   \n",
       "5       F          5612       4914.428371        993.466494      26885.111997   \n",
       "22      W          4685       4128.663787        993.466494      26885.111997   \n",
       "15      P          4672       4050.000388        993.466494      26885.111997   \n",
       "1       B          4138       3451.357466        572.578148      26885.111997   \n",
       "6       G          3925       3302.871801        993.466494      15521.126649   \n",
       "24      Y          3693       3209.796875        993.466494      26885.111997   \n",
       "21      V          2159       1888.176960        572.578148       8960.126649   \n",
       "10      K          1243       1064.245771        329.578148       5172.131533   \n",
       "23      X           544        466.061668        108.282032       1722.466494   \n",
       "9       J           520        451.123736        108.282032       2985.131533   \n",
       "16      Q           319        275.153973         61.516660       1722.466494   \n",
       "25      Z           124        106.234702         18.928203        993.466494   \n",
       "\n",
       "    Standard deviation  Average relative error  Maximum relative error  \n",
       "4         20030.710468               11.562306              360.326419  \n",
       "19        13753.674303               13.994865              498.967066  \n",
       "0         11267.011128               12.301760              334.239936  \n",
       "14        10199.997686               13.517174              350.917196  \n",
       "13        11698.239265               13.516930              742.077440  \n",
       "8          9667.034159               13.025035              389.739332  \n",
       "18         9006.341190               11.802841              442.252558  \n",
       "17         9302.017987               12.828052              918.065059  \n",
       "7          8002.944255               14.450775              502.750471  \n",
       "11         5732.181261               12.908489              383.222082  \n",
       "3          6256.341402               11.194018              395.721865  \n",
       "2          4327.385580               15.525108              555.704196  \n",
       "20         3767.641424               11.815195              600.483032  \n",
       "12         3410.258341               14.758897              344.308577  \n",
       "5          3414.853224               12.430001              379.064718  \n",
       "22         2973.895668               11.874839              473.855112  \n",
       "15         2964.515435               13.313348              475.451884  \n",
       "1          2465.756155               16.593585              549.712711  \n",
       "6          2322.469149               15.850400              295.442717  \n",
       "24         2393.275797               13.084298              628.001950  \n",
       "21         1385.094765               12.543911              315.012814  \n",
       "10          707.578893               14.380871              316.100686  \n",
       "23          307.087475               14.326899              216.629870  \n",
       "9           340.573467               13.245435              474.063756  \n",
       "16          193.349770               13.744836              439.958149  \n",
       "25           80.541307               14.326853              701.182656  "
      ]
     },
     "execution_count": 121,
     "metadata": {},
     "output_type": "execute_result"
    }
   ],
   "source": [
    "df_en = create_dec_table(dec_results, 'en')\n",
    "df_en = df_en.sort_values(by='Average estimate', ascending=False)\n",
    "df_en"
   ]
  },
  {
   "cell_type": "code",
   "execution_count": 122,
   "id": "49ac95af-b28b-464b-af34-4dec40224d4e",
   "metadata": {},
   "outputs": [],
   "source": [
    "with open('./results/tables/dec_table_en.tex', 'w') as f:\n",
    "    df_en.to_latex(f, float_format=\"{:0.2f}\".format, index=False)"
   ]
  },
  {
   "cell_type": "code",
   "execution_count": 123,
   "id": "d3411459-c4b8-4ffc-b820-ef09b93e9216",
   "metadata": {},
   "outputs": [
    {
     "data": {
      "text/html": [
       "<div>\n",
       "<style scoped>\n",
       "    .dataframe tbody tr th:only-of-type {\n",
       "        vertical-align: middle;\n",
       "    }\n",
       "\n",
       "    .dataframe tbody tr th {\n",
       "        vertical-align: top;\n",
       "    }\n",
       "\n",
       "    .dataframe thead th {\n",
       "        text-align: right;\n",
       "    }\n",
       "</style>\n",
       "<table border=\"1\" class=\"dataframe\">\n",
       "  <thead>\n",
       "    <tr style=\"text-align: right;\">\n",
       "      <th></th>\n",
       "      <th>Letter</th>\n",
       "      <th>Exact counts</th>\n",
       "      <th>Average estimate</th>\n",
       "      <th>Minimum estimate</th>\n",
       "      <th>Maximum estimate</th>\n",
       "      <th>Standard deviation</th>\n",
       "      <th>Average relative error</th>\n",
       "      <th>Maximum relative error</th>\n",
       "    </tr>\n",
       "  </thead>\n",
       "  <tbody>\n",
       "    <tr>\n",
       "      <th>4</th>\n",
       "      <td>E</td>\n",
       "      <td>45127</td>\n",
       "      <td>39644.825790</td>\n",
       "      <td>8960.126649</td>\n",
       "      <td>241984.936179</td>\n",
       "      <td>27774.599836</td>\n",
       "      <td>12.148324</td>\n",
       "      <td>436.230940</td>\n",
       "    </tr>\n",
       "    <tr>\n",
       "      <th>0</th>\n",
       "      <td>A</td>\n",
       "      <td>21969</td>\n",
       "      <td>18842.859647</td>\n",
       "      <td>5172.131533</td>\n",
       "      <td>139709.068043</td>\n",
       "      <td>13492.603564</td>\n",
       "      <td>14.229780</td>\n",
       "      <td>535.937312</td>\n",
       "    </tr>\n",
       "    <tr>\n",
       "      <th>18</th>\n",
       "      <td>S</td>\n",
       "      <td>21579</td>\n",
       "      <td>17845.399032</td>\n",
       "      <td>5172.131533</td>\n",
       "      <td>139709.068043</td>\n",
       "      <td>12096.016485</td>\n",
       "      <td>17.302011</td>\n",
       "      <td>547.430687</td>\n",
       "    </tr>\n",
       "    <tr>\n",
       "      <th>19</th>\n",
       "      <td>T</td>\n",
       "      <td>19480</td>\n",
       "      <td>17096.846551</td>\n",
       "      <td>2985.131533</td>\n",
       "      <td>80660.068043</td>\n",
       "      <td>11418.267483</td>\n",
       "      <td>12.233847</td>\n",
       "      <td>314.066058</td>\n",
       "    </tr>\n",
       "    <tr>\n",
       "      <th>13</th>\n",
       "      <td>N</td>\n",
       "      <td>20058</td>\n",
       "      <td>17087.456428</td>\n",
       "      <td>5172.131533</td>\n",
       "      <td>80660.068043</td>\n",
       "      <td>11961.650365</td>\n",
       "      <td>14.809770</td>\n",
       "      <td>302.134151</td>\n",
       "    </tr>\n",
       "    <tr>\n",
       "      <th>8</th>\n",
       "      <td>I</td>\n",
       "      <td>19715</td>\n",
       "      <td>16569.757268</td>\n",
       "      <td>2985.131533</td>\n",
       "      <td>139709.068043</td>\n",
       "      <td>11674.781650</td>\n",
       "      <td>15.953552</td>\n",
       "      <td>608.643510</td>\n",
       "    </tr>\n",
       "    <tr>\n",
       "      <th>17</th>\n",
       "      <td>R</td>\n",
       "      <td>17698</td>\n",
       "      <td>15487.055494</td>\n",
       "      <td>2985.131533</td>\n",
       "      <td>80660.068043</td>\n",
       "      <td>10776.797720</td>\n",
       "      <td>12.492623</td>\n",
       "      <td>355.758097</td>\n",
       "    </tr>\n",
       "    <tr>\n",
       "      <th>20</th>\n",
       "      <td>U</td>\n",
       "      <td>15944</td>\n",
       "      <td>13581.369228</td>\n",
       "      <td>2985.131533</td>\n",
       "      <td>80660.068043</td>\n",
       "      <td>8910.714726</td>\n",
       "      <td>14.818306</td>\n",
       "      <td>405.896061</td>\n",
       "    </tr>\n",
       "    <tr>\n",
       "      <th>11</th>\n",
       "      <td>L</td>\n",
       "      <td>15359</td>\n",
       "      <td>13315.389124</td>\n",
       "      <td>2985.131533</td>\n",
       "      <td>80660.068043</td>\n",
       "      <td>9746.851924</td>\n",
       "      <td>13.305625</td>\n",
       "      <td>425.164842</td>\n",
       "    </tr>\n",
       "    <tr>\n",
       "      <th>14</th>\n",
       "      <td>O</td>\n",
       "      <td>13799</td>\n",
       "      <td>11864.424994</td>\n",
       "      <td>2985.131533</td>\n",
       "      <td>80660.068043</td>\n",
       "      <td>8465.673700</td>\n",
       "      <td>14.019675</td>\n",
       "      <td>484.535604</td>\n",
       "    </tr>\n",
       "    <tr>\n",
       "      <th>3</th>\n",
       "      <td>D</td>\n",
       "      <td>10500</td>\n",
       "      <td>9039.244255</td>\n",
       "      <td>1722.466494</td>\n",
       "      <td>46568.111997</td>\n",
       "      <td>6013.149076</td>\n",
       "      <td>13.911959</td>\n",
       "      <td>343.505829</td>\n",
       "    </tr>\n",
       "    <tr>\n",
       "      <th>2</th>\n",
       "      <td>C</td>\n",
       "      <td>8964</td>\n",
       "      <td>7615.176160</td>\n",
       "      <td>1722.466494</td>\n",
       "      <td>46568.111997</td>\n",
       "      <td>5186.334377</td>\n",
       "      <td>15.047120</td>\n",
       "      <td>419.501473</td>\n",
       "    </tr>\n",
       "    <tr>\n",
       "      <th>15</th>\n",
       "      <td>P</td>\n",
       "      <td>7784</td>\n",
       "      <td>6890.452330</td>\n",
       "      <td>1722.466494</td>\n",
       "      <td>46568.111997</td>\n",
       "      <td>4519.645450</td>\n",
       "      <td>11.479287</td>\n",
       "      <td>498.254265</td>\n",
       "    </tr>\n",
       "    <tr>\n",
       "      <th>12</th>\n",
       "      <td>M</td>\n",
       "      <td>7507</td>\n",
       "      <td>6677.978764</td>\n",
       "      <td>1722.466494</td>\n",
       "      <td>46568.111997</td>\n",
       "      <td>5016.477488</td>\n",
       "      <td>11.043309</td>\n",
       "      <td>520.329186</td>\n",
       "    </tr>\n",
       "    <tr>\n",
       "      <th>21</th>\n",
       "      <td>V</td>\n",
       "      <td>3820</td>\n",
       "      <td>3321.077633</td>\n",
       "      <td>572.578148</td>\n",
       "      <td>26885.111997</td>\n",
       "      <td>2359.630005</td>\n",
       "      <td>13.060795</td>\n",
       "      <td>603.798743</td>\n",
       "    </tr>\n",
       "    <tr>\n",
       "      <th>1</th>\n",
       "      <td>B</td>\n",
       "      <td>3133</td>\n",
       "      <td>2705.363039</td>\n",
       "      <td>572.578148</td>\n",
       "      <td>15521.126649</td>\n",
       "      <td>2014.017386</td>\n",
       "      <td>13.649440</td>\n",
       "      <td>395.407809</td>\n",
       "    </tr>\n",
       "    <tr>\n",
       "      <th>5</th>\n",
       "      <td>F</td>\n",
       "      <td>2947</td>\n",
       "      <td>2581.842491</td>\n",
       "      <td>329.578148</td>\n",
       "      <td>8960.126649</td>\n",
       "      <td>1656.698027</td>\n",
       "      <td>12.390821</td>\n",
       "      <td>204.042302</td>\n",
       "    </tr>\n",
       "    <tr>\n",
       "      <th>16</th>\n",
       "      <td>Q</td>\n",
       "      <td>2818</td>\n",
       "      <td>2447.752943</td>\n",
       "      <td>572.578148</td>\n",
       "      <td>15521.126649</td>\n",
       "      <td>1693.461187</td>\n",
       "      <td>13.138646</td>\n",
       "      <td>450.785190</td>\n",
       "    </tr>\n",
       "    <tr>\n",
       "      <th>6</th>\n",
       "      <td>G</td>\n",
       "      <td>2423</td>\n",
       "      <td>2112.354226</td>\n",
       "      <td>572.578148</td>\n",
       "      <td>8960.126649</td>\n",
       "      <td>1498.461090</td>\n",
       "      <td>12.820709</td>\n",
       "      <td>269.794744</td>\n",
       "    </tr>\n",
       "    <tr>\n",
       "      <th>7</th>\n",
       "      <td>H</td>\n",
       "      <td>2142</td>\n",
       "      <td>1805.903426</td>\n",
       "      <td>329.578148</td>\n",
       "      <td>8960.126649</td>\n",
       "      <td>1251.805071</td>\n",
       "      <td>15.690783</td>\n",
       "      <td>318.306566</td>\n",
       "    </tr>\n",
       "    <tr>\n",
       "      <th>23</th>\n",
       "      <td>X</td>\n",
       "      <td>1351</td>\n",
       "      <td>1169.934098</td>\n",
       "      <td>329.578148</td>\n",
       "      <td>8960.126649</td>\n",
       "      <td>816.659463</td>\n",
       "      <td>13.402361</td>\n",
       "      <td>563.221810</td>\n",
       "    </tr>\n",
       "    <tr>\n",
       "      <th>9</th>\n",
       "      <td>J</td>\n",
       "      <td>1039</td>\n",
       "      <td>907.178158</td>\n",
       "      <td>189.282032</td>\n",
       "      <td>5172.131533</td>\n",
       "      <td>634.408787</td>\n",
       "      <td>12.687377</td>\n",
       "      <td>397.798993</td>\n",
       "    </tr>\n",
       "    <tr>\n",
       "      <th>24</th>\n",
       "      <td>Y</td>\n",
       "      <td>702</td>\n",
       "      <td>608.725001</td>\n",
       "      <td>108.282032</td>\n",
       "      <td>2985.131533</td>\n",
       "      <td>417.533362</td>\n",
       "      <td>13.287037</td>\n",
       "      <td>325.232412</td>\n",
       "    </tr>\n",
       "    <tr>\n",
       "      <th>25</th>\n",
       "      <td>Z</td>\n",
       "      <td>441</td>\n",
       "      <td>386.260061</td>\n",
       "      <td>61.516660</td>\n",
       "      <td>1722.466494</td>\n",
       "      <td>259.105319</td>\n",
       "      <td>12.412684</td>\n",
       "      <td>290.581971</td>\n",
       "    </tr>\n",
       "    <tr>\n",
       "      <th>22</th>\n",
       "      <td>W</td>\n",
       "      <td>104</td>\n",
       "      <td>92.455788</td>\n",
       "      <td>18.928203</td>\n",
       "      <td>572.578148</td>\n",
       "      <td>66.461705</td>\n",
       "      <td>11.100203</td>\n",
       "      <td>450.555911</td>\n",
       "    </tr>\n",
       "    <tr>\n",
       "      <th>10</th>\n",
       "      <td>K</td>\n",
       "      <td>81</td>\n",
       "      <td>70.239186</td>\n",
       "      <td>18.928203</td>\n",
       "      <td>329.578148</td>\n",
       "      <td>48.396594</td>\n",
       "      <td>13.284956</td>\n",
       "      <td>306.886602</td>\n",
       "    </tr>\n",
       "  </tbody>\n",
       "</table>\n",
       "</div>"
      ],
      "text/plain": [
       "   Letter  Exact counts  Average estimate  Minimum estimate  Maximum estimate  \\\n",
       "4       E         45127      39644.825790       8960.126649     241984.936179   \n",
       "0       A         21969      18842.859647       5172.131533     139709.068043   \n",
       "18      S         21579      17845.399032       5172.131533     139709.068043   \n",
       "19      T         19480      17096.846551       2985.131533      80660.068043   \n",
       "13      N         20058      17087.456428       5172.131533      80660.068043   \n",
       "8       I         19715      16569.757268       2985.131533     139709.068043   \n",
       "17      R         17698      15487.055494       2985.131533      80660.068043   \n",
       "20      U         15944      13581.369228       2985.131533      80660.068043   \n",
       "11      L         15359      13315.389124       2985.131533      80660.068043   \n",
       "14      O         13799      11864.424994       2985.131533      80660.068043   \n",
       "3       D         10500       9039.244255       1722.466494      46568.111997   \n",
       "2       C          8964       7615.176160       1722.466494      46568.111997   \n",
       "15      P          7784       6890.452330       1722.466494      46568.111997   \n",
       "12      M          7507       6677.978764       1722.466494      46568.111997   \n",
       "21      V          3820       3321.077633        572.578148      26885.111997   \n",
       "1       B          3133       2705.363039        572.578148      15521.126649   \n",
       "5       F          2947       2581.842491        329.578148       8960.126649   \n",
       "16      Q          2818       2447.752943        572.578148      15521.126649   \n",
       "6       G          2423       2112.354226        572.578148       8960.126649   \n",
       "7       H          2142       1805.903426        329.578148       8960.126649   \n",
       "23      X          1351       1169.934098        329.578148       8960.126649   \n",
       "9       J          1039        907.178158        189.282032       5172.131533   \n",
       "24      Y           702        608.725001        108.282032       2985.131533   \n",
       "25      Z           441        386.260061         61.516660       1722.466494   \n",
       "22      W           104         92.455788         18.928203        572.578148   \n",
       "10      K            81         70.239186         18.928203        329.578148   \n",
       "\n",
       "    Standard deviation  Average relative error  Maximum relative error  \n",
       "4         27774.599836               12.148324              436.230940  \n",
       "0         13492.603564               14.229780              535.937312  \n",
       "18        12096.016485               17.302011              547.430687  \n",
       "19        11418.267483               12.233847              314.066058  \n",
       "13        11961.650365               14.809770              302.134151  \n",
       "8         11674.781650               15.953552              608.643510  \n",
       "17        10776.797720               12.492623              355.758097  \n",
       "20         8910.714726               14.818306              405.896061  \n",
       "11         9746.851924               13.305625              425.164842  \n",
       "14         8465.673700               14.019675              484.535604  \n",
       "3          6013.149076               13.911959              343.505829  \n",
       "2          5186.334377               15.047120              419.501473  \n",
       "15         4519.645450               11.479287              498.254265  \n",
       "12         5016.477488               11.043309              520.329186  \n",
       "21         2359.630005               13.060795              603.798743  \n",
       "1          2014.017386               13.649440              395.407809  \n",
       "5          1656.698027               12.390821              204.042302  \n",
       "16         1693.461187               13.138646              450.785190  \n",
       "6          1498.461090               12.820709              269.794744  \n",
       "7          1251.805071               15.690783              318.306566  \n",
       "23          816.659463               13.402361              563.221810  \n",
       "9           634.408787               12.687377              397.798993  \n",
       "24          417.533362               13.287037              325.232412  \n",
       "25          259.105319               12.412684              290.581971  \n",
       "22           66.461705               11.100203              450.555911  \n",
       "10           48.396594               13.284956              306.886602  "
      ]
     },
     "execution_count": 123,
     "metadata": {},
     "output_type": "execute_result"
    }
   ],
   "source": [
    "df_fr = create_dec_table(dec_results, 'fr')\n",
    "df_fr = df_fr.sort_values(by='Average estimate', ascending=False)\n",
    "df_fr"
   ]
  },
  {
   "cell_type": "code",
   "execution_count": 124,
   "id": "1755f043-6481-405f-b961-e8c77ae57dfd",
   "metadata": {},
   "outputs": [],
   "source": [
    "n = np.arange(1, 10000)\n",
    "k = np.floor(np.log2(n))+1\n",
    "k2 = np.log2(n+1)\n",
    "estim = 2**k-1\n",
    "estim2 = 2**k2-1"
   ]
  },
  {
   "cell_type": "code",
   "execution_count": 125,
   "id": "36ae4837-61e3-44de-b7ec-0db0f770a5e1",
   "metadata": {},
   "outputs": [
    {
     "data": {
      "image/png": "[encoded data removed]",
      "text/plain": [
       "<Figure size 432x288 with 1 Axes>"
      ]
     },
     "metadata": {
      "needs_background": "light"
     },
     "output_type": "display_data"
    }
   ],
   "source": [
    "plt.plot(n, estim)\n",
    "plt.plot(n, n, '--')\n",
    "ax = plt.gca()\n",
    "ax.vlines(73, ymin=0, ymax=100);"
   ]
  },
  {
   "cell_type": "code",
   "execution_count": 126,
   "id": "53670886-0c9b-4dfe-a701-cc8785888409",
   "metadata": {},
   "outputs": [],
   "source": [
    "with open('./results/dec_prob_counter_x900.json', 'r') as f: \n",
    "    dec_prob_results = json.load(f)    \n",
    "dec_results_900 = dict_to_np(dec_prob_results)"
   ]
  },
  {
   "cell_type": "code",
   "execution_count": 127,
   "id": "86a8b39a-985c-42bf-90d2-c2892683af66",
   "metadata": {},
   "outputs": [],
   "source": [
    "t = dec_results_900['pt']"
   ]
  },
  {
   "cell_type": "code",
   "execution_count": 128,
   "id": "f941a65e-75eb-457a-8420-7483a3d76149",
   "metadata": {},
   "outputs": [],
   "source": [
    "expect = {}\n",
    "for lang in ('pt', 'en', 'fr'):\n",
    "    expect[lang] = dec_results_900[lang].mean(axis=1)"
   ]
  },
  {
   "cell_type": "code",
   "execution_count": 129,
   "id": "f06a4c67-a567-4d80-a247-1b80d4d60b89",
   "metadata": {},
   "outputs": [],
   "source": [
    "teo_expect = {}\n",
    "for lang in ('pt', 'en', 'fr'):\n",
    "    teo_expect[lang] = np.log2(det_results[lang]+1)"
   ]
  },
  {
   "cell_type": "code",
   "execution_count": 130,
   "id": "22324b60-8e33-4076-97aa-53abd252b153",
   "metadata": {},
   "outputs": [
    {
     "data": {
      "image/png": "[encoded data removed]",
      "text/plain": [
       "<Figure size 432x288 with 1 Axes>"
      ]
     },
     "metadata": {
      "needs_background": "light"
     },
     "output_type": "display_data"
    }
   ],
   "source": [
    "fig, ax = plot_expected_values(expect, teo_expect, 'pt')\n",
    "ax.set_yscale('linear')\n",
    "ax.set_ylabel('Expected value');"
   ]
  },
  {
   "cell_type": "code",
   "execution_count": null,
   "id": "5dad2bbb-6d30-4a39-90b4-e3113b63376e",
   "metadata": {},
   "outputs": [],
   "source": []
  }
 ],
 "metadata": {
  "kernelspec": {
   "display_name": "Algoritmos",
   "language": "python",
   "name": "algoritmos"
  },
  "language_info": {
   "codemirror_mode": {
    "name": "ipython",
    "version": 3
   },
   "file_extension": ".py",
   "mimetype": "text/x-python",
   "name": "python",
   "nbconvert_exporter": "python",
   "pygments_lexer": "ipython3",
   "version": "3.9.7"
  }
 },
 "nbformat": 4,
 "nbformat_minor": 5
}
